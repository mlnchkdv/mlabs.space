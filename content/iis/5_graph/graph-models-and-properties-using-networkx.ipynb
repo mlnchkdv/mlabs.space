{
 "cells": [
  {
   "cell_type": "markdown",
   "metadata": {
    "id": "O3RaLGGrRU0M"
   },
   "source": [
    "# Agenda:\n",
    "+ **Specific graphs and graph models**\n",
    "  1. Empty graph\n",
    "  2. Complete graph/ Full graph\n",
    "  3. Simple star graph\n",
    "  4. Random tree\n",
    "  5. Balanced tree\n",
    "  6. Erdos-Renyi random graph model\n",
    "  7. Watts–Strogatz small-world graph\n",
    "  8. Barabási–Albert preferential attachment model\n",
    "  9. Scale-free graph Vs Small-world graph\n",
    "+ **Network and node descriptives**\n",
    "  1. Density\n",
    "  2. Reciprocity\n",
    "  3. Transitivity\n",
    "  4. Clustering coefficient\n",
    "  5. Diameter\n",
    "  6. Node degrees\n",
    "  7. Degree distribution\n",
    "  8. Paths\n",
    "  9. Average path length\n",
    "  10. Connected components\n",
    "  11. Giant component\n",
    "  12. k-cores\n",
    "+ **Summary**"
   ]
  },
  {
   "cell_type": "markdown",
   "metadata": {
    "id": "S_iUr47MMonk"
   },
   "source": [
    "# Libraries needed:\n",
    "\n",
    "**We need following libraries: networkx**\n"
   ]
  },
  {
   "cell_type": "code",
   "execution_count": 1,
   "metadata": {
    "id": "VLehHD7rMonp",
    "outputId": "be86cb15-e874-4791-e7ee-2746e33e42fb",
    "tags": []
   },
   "outputs": [
    {
     "ename": "ModuleNotFoundError",
     "evalue": "No module named 'networkx'",
     "output_type": "error",
     "traceback": [
      "\u001b[1;31m---------------------------------------------------------------------------\u001b[0m",
      "\u001b[1;31mModuleNotFoundError\u001b[0m                       Traceback (most recent call last)",
      "Cell \u001b[1;32mIn[1], line 3\u001b[0m\n\u001b[0;32m      1\u001b[0m \u001b[38;5;66;03m# Installing and importing networkx library\u001b[39;00m\n\u001b[0;32m      2\u001b[0m \u001b[38;5;66;03m#!pip install networkx\u001b[39;00m\n\u001b[1;32m----> 3\u001b[0m \u001b[38;5;28;01mimport\u001b[39;00m \u001b[38;5;21;01mnetworkx\u001b[39;00m \u001b[38;5;28;01mas\u001b[39;00m \u001b[38;5;21;01mnx\u001b[39;00m\n\u001b[0;32m      4\u001b[0m \u001b[38;5;28;01mimport\u001b[39;00m \u001b[38;5;21;01mmatplotlib\u001b[39;00m\u001b[38;5;21;01m.\u001b[39;00m\u001b[38;5;21;01mpyplot\u001b[39;00m \u001b[38;5;28;01mas\u001b[39;00m \u001b[38;5;21;01mplt\u001b[39;00m\n\u001b[0;32m      5\u001b[0m \u001b[38;5;28;01mimport\u001b[39;00m \u001b[38;5;21;01mnumpy\u001b[39;00m \u001b[38;5;28;01mas\u001b[39;00m \u001b[38;5;21;01mnp\u001b[39;00m\n",
      "\u001b[1;31mModuleNotFoundError\u001b[0m: No module named 'networkx'"
     ]
    }
   ],
   "source": [
    "# Installing and importing networkx library\n",
    "#!pip install networkx\n",
    "import networkx as nx\n",
    "import matplotlib.pyplot as plt\n",
    "import numpy as np"
   ]
  },
  {
   "cell_type": "markdown",
   "metadata": {
    "id": "CjHx7QacpF3a"
   },
   "source": [
    "The above statement import the 'networkx' library in the current namespace, but rather than using the name networkx, we will refer it as 'nx'."
   ]
  },
  {
   "cell_type": "code",
   "execution_count": null,
   "metadata": {
    "id": "6zmNvtzvpF3b",
    "outputId": "9af209af-9162-44c9-da40-4cb1ef931e26"
   },
   "outputs": [],
   "source": [
    "#Check its version\n",
    "print(nx.__version__)"
   ]
  },
  {
   "cell_type": "markdown",
   "metadata": {
    "id": "y5Yn4BjipF3d"
   },
   "source": [
    "# 1. Specific graphs and graph models"
   ]
  },
  {
   "cell_type": "markdown",
   "metadata": {
    "id": "Dq2Kbyt43UFr"
   },
   "source": [
    "## 1.1. Empty graph"
   ]
  },
  {
   "cell_type": "code",
   "execution_count": null,
   "metadata": {
    "id": "G2VfZxy63UFs"
   },
   "outputs": [],
   "source": [
    "n = 10\n",
    "G = nx.empty_graph(n)"
   ]
  },
  {
   "cell_type": "markdown",
   "metadata": {
    "id": "k7STPoOjpF3e"
   },
   "source": [
    "The above statement created an empty graph with n vertices and no edges and assigned it to the variable G. We called networkx inbuild function empty_graph() to build graph G. To confirm that it’s really a networkx graph, we can print it:"
   ]
  },
  {
   "cell_type": "code",
   "execution_count": null,
   "metadata": {
    "id": "1IGa0ukz3UFu",
    "outputId": "adaf94af-e1d3-4c98-f11c-caafbe1231f6"
   },
   "outputs": [],
   "source": [
    "G"
   ]
  },
  {
   "cell_type": "markdown",
   "metadata": {
    "id": "5pYoRF2zpF3f"
   },
   "source": [
    "This tells us that G is an instance of networkx's Graph class and that it is currently living at the memory address 0x7f6ad8fb3250 (the exact output will almost surely be different for your platform). We can plot it to visualize the graph.\n",
    "\n",
    "To obtain a more user-friendly output, we can try to print the graph using Python’s print statement:"
   ]
  },
  {
   "cell_type": "code",
   "execution_count": null,
   "metadata": {
    "id": "3b6yQufBpF3e",
    "outputId": "f771dd47-dd15-43ce-d58d-cca574049823"
   },
   "outputs": [],
   "source": [
    "#plot\n",
    "nx.draw(G)"
   ]
  },
  {
   "cell_type": "code",
   "execution_count": null,
   "metadata": {
    "id": "Tsz_ahTh3UFx",
    "outputId": "35ac053b-da5a-4048-c95b-44400d754474"
   },
   "outputs": [],
   "source": [
    "# Lets add vetices labels\n",
    "nx.draw(G, with_labels=True)"
   ]
  },
  {
   "cell_type": "markdown",
   "metadata": {
    "id": "I1Y7Y6-u3UFy"
   },
   "source": [
    "## 1.2. Complete graph/ Full graph\n",
    "\n",
    "1. Undirected complete graph: In graph theory, a complete graph is a simple undirected graph in which every pair of distinct vertices is connected by a unique edge.\n",
    "\n",
    "2. Directed complete graph: A complete digraph is a directed graph in which every pair of distinct vertices is connected by a pair of unique edges (one in each direction)."
   ]
  },
  {
   "cell_type": "code",
   "execution_count": null,
   "metadata": {
    "id": "foxR8pXnpF3f"
   },
   "outputs": [],
   "source": [
    "K_5 = nx.complete_graph(5)"
   ]
  },
  {
   "cell_type": "code",
   "execution_count": null,
   "metadata": {
    "id": "s73D4FOl3UFz",
    "outputId": "ed1c4314-3250-4718-a81e-88b6c77fcf50"
   },
   "outputs": [],
   "source": [
    "nx.draw(K_5, with_labels=True)"
   ]
  },
  {
   "cell_type": "code",
   "execution_count": null,
   "metadata": {
    "id": "EmUjKv2X3UF0"
   },
   "outputs": [],
   "source": [
    "K_5_D = nx.DiGraph(K_5)"
   ]
  },
  {
   "cell_type": "code",
   "execution_count": null,
   "metadata": {
    "id": "P1jZJIVSpF3g",
    "outputId": "2304d349-ee96-4239-f9d6-941951af01b7"
   },
   "outputs": [],
   "source": [
    "nx.draw(K_5_D, with_labels=True)"
   ]
  },
  {
   "cell_type": "markdown",
   "metadata": {
    "id": "LM6pMopZ3UF1"
   },
   "source": [
    "## 1.3. Simple star graph\n",
    "\n",
    "In graph theory, a star Sₖ is the complete bipartite graph K1, ₖ: a tree with one internal node and k leaves. Alternatively, some authors define Sₖ to be the tree of order k with maximum diameter 2; in which case a star of k > 2 has k − 1 leaves."
   ]
  },
  {
   "cell_type": "code",
   "execution_count": null,
   "metadata": {
    "id": "YxjqQarf3UF2"
   },
   "outputs": [],
   "source": [
    "st = nx.star_graph(20)"
   ]
  },
  {
   "cell_type": "code",
   "execution_count": null,
   "metadata": {
    "id": "4nVtEuGX3UGZ",
    "outputId": "42866473-ad46-4e53-8f63-3c89ac32dec5"
   },
   "outputs": [],
   "source": [
    "nx.draw(st, with_labels=True)"
   ]
  },
  {
   "cell_type": "markdown",
   "metadata": {
    "id": "_buc_gQi3UGa"
   },
   "source": [
    "## 1.4. Random tree\n",
    "\n",
    "A random tree is a tree or arborescence that is formed by a stochastic process. https://en.wikipedia.org/wiki/Random_tree"
   ]
  },
  {
   "cell_type": "code",
   "execution_count": null,
   "metadata": {
    "id": "n45ms9ZL3UGb",
    "outputId": "81cbba0c-9934-4d2f-ade1-5981377423f5"
   },
   "outputs": [],
   "source": [
    "rt = nx.random_tree(20)\n",
    "nx.draw(rt, with_labels=True)"
   ]
  },
  {
   "cell_type": "markdown",
   "metadata": {
    "id": "_ubDwtOd3UGb"
   },
   "source": [
    "## 1.5. Balanced tree\n",
    "\n",
    "The constraint is generally applied recursively to every subtree. That is, the tree is only balanced if:\n",
    "\n",
    "* The left and right subtrees' heights differ by at most one, AND\n",
    "* The left subtree is balanced, AND\n",
    "* The right subtree is balanced"
   ]
  },
  {
   "cell_type": "code",
   "execution_count": null,
   "metadata": {
    "id": "adS-lgRD3UGc",
    "outputId": "0ea553d9-404e-44fd-b03a-189c07e9c2b2"
   },
   "outputs": [],
   "source": [
    "bt = nx.balanced_tree(3,2)\n",
    "nx.draw(bt, with_labels=True)"
   ]
  },
  {
   "cell_type": "markdown",
   "metadata": {
    "id": "hCMs81Zy3UGd"
   },
   "source": [
    "## 1.6. Erdos-Renyi random graph model\n"
   ]
  },
  {
   "cell_type": "code",
   "execution_count": null,
   "metadata": {
    "id": "CEdW6suI3UGd",
    "outputId": "0e485fe1-ab7c-48fb-82fc-3c637213d248"
   },
   "outputs": [],
   "source": [
    "er = nx.erdos_renyi_graph(100, 0.15) #100 nodes connected with probability 0.15\n",
    "nx.draw(er, with_labels=True)"
   ]
  },
  {
   "cell_type": "code",
   "execution_count": null,
   "metadata": {
    "id": "CSJMqY6x3UGf",
    "outputId": "a16ee9a4-9dfe-4d56-fa54-43fd64f164ca"
   },
   "outputs": [],
   "source": [
    "#Degree plot\n",
    "degrees = [er.degree(n) for n in er.nodes()]\n",
    "plt.hist(degrees)"
   ]
  },
  {
   "cell_type": "markdown",
   "metadata": {
    "id": "qMhJZlVj3UGg"
   },
   "source": [
    "## 1.7. Watts–Strogatz small-world graph"
   ]
  },
  {
   "cell_type": "code",
   "execution_count": null,
   "metadata": {
    "id": "AwVbNjtP3UGh",
    "outputId": "7e2e8867-3b1f-4dc9-92be-9e6bc36ba674"
   },
   "outputs": [],
   "source": [
    "ws = nx.watts_strogatz_graph(30, 3, 0.1)\n",
    "nx.draw(ws, with_labels=True)"
   ]
  },
  {
   "cell_type": "code",
   "execution_count": null,
   "metadata": {
    "id": "_LZJWn7c3UGh",
    "outputId": "adb7a56a-c40e-4c90-8a80-ab33f1e8a8bb"
   },
   "outputs": [],
   "source": [
    "#Degree plot\n",
    "degrees = [ws.degree(n) for n in ws.nodes()]\n",
    "plt.hist(degrees)"
   ]
  },
  {
   "cell_type": "markdown",
   "metadata": {
    "id": "CjTIxRWe3UGi"
   },
   "source": [
    "## 1.8. Barabási–Albert preferential attachment model"
   ]
  },
  {
   "cell_type": "code",
   "execution_count": null,
   "metadata": {
    "id": "EuqREPj23UGj",
    "outputId": "d3a72f19-fe22-4af1-a20e-fb649fe68b66"
   },
   "outputs": [],
   "source": [
    "ba = nx.barabasi_albert_graph(100, 5)\n",
    "nx.draw(ba, with_labels=True)"
   ]
  },
  {
   "cell_type": "code",
   "execution_count": null,
   "metadata": {
    "id": "reTVwjQJ3UGj",
    "outputId": "77b8dcdc-1497-4c29-f94b-aa846b701f8b"
   },
   "outputs": [],
   "source": [
    "#Degree plot\n",
    "degrees = [ba.degree(n) for n in ba.nodes()]\n",
    "plt.hist(degrees)"
   ]
  },
  {
   "cell_type": "code",
   "execution_count": null,
   "metadata": {
    "id": "5HXpw9ai3UGl"
   },
   "outputs": [],
   "source": [
    "#power-law\n",
    "degree_sequence = degree_sequence = sorted([d for n, d in ba.degree()], reverse=True)\n",
    "plt.loglog(degree_sequence,marker='*')\n",
    "plt.show()"
   ]
  },
  {
   "cell_type": "markdown",
   "metadata": {
    "id": "Why9eJkf3UGm"
   },
   "source": [
    "## 1.9. Scale-free graph Vs Small-world graph"
   ]
  },
  {
   "cell_type": "code",
   "execution_count": null,
   "metadata": {
    "id": "SH0siNDT3UGm",
    "outputId": "0a19f5e8-54eb-46d1-c4c9-b8732c4c22cd"
   },
   "outputs": [],
   "source": [
    "#https://stackoverflow.com/questions/49498344/using-python-and-networkx-to-find-the-probability-density-function\n",
    "g1 = nx.scale_free_graph(1000, ) #scale-free graph\n",
    "g2 = nx.watts_strogatz_graph(1000, 6, p=0.8) #small world graph\n",
    "\n",
    "# we don't need to sort the values since the histogram will handle it for us\n",
    "deg_g1 = [g1.degree(n) for n in g1.nodes()]\n",
    "deg_g2 = [g2.degree(n) for n in g2.nodes()]\n",
    "# there are smarter ways to choose bin locations, but since\n",
    "# degrees must be discrete, we can be lazy...\n",
    "max_degree = max(deg_g1 + deg_g2)\n",
    "\n",
    "# plot different styles to see both\n",
    "fig = plt.figure()\n",
    "ax = fig.add_subplot(111)\n",
    "arr1 = ax.hist(deg_g1, bins=range(0, max_degree), density=True, histtype='bar', rwidth=0.8, label='Scale-free graph')\n",
    "arr2 = ax.hist(deg_g2, bins=range(0, max_degree), density=True, histtype='step', lw=3, label='Small-world graph') \n",
    "\n",
    "# setup the axes to be log/log scaled\n",
    "ax.set_yscale('log')\n",
    "ax.set_xscale('log')\n",
    "ax.set_xlabel('degree')\n",
    "ax.set_ylabel('relative density')\n",
    "ax.legend()\n",
    "\n",
    "plt.show()"
   ]
  },
  {
   "cell_type": "markdown",
   "metadata": {
    "id": "GW8m5iu43UGn"
   },
   "source": [
    "Here we can see that g1 has an approximately straight line decay in the degree distribution -- as expected for scale-free distributions on log-log axes. Conversely, g2 does not have a scale-free degree distribution."
   ]
  },
  {
   "cell_type": "markdown",
   "metadata": {
    "id": "qNuF-L5H3UGo"
   },
   "source": [
    "https://networkx.org/documentation/stable/reference/generators.html"
   ]
  },
  {
   "cell_type": "markdown",
   "metadata": {
    "id": "f7yI5uFU3UGo"
   },
   "source": [
    "# 2. Network and node descriptives"
   ]
  },
  {
   "cell_type": "markdown",
   "metadata": {
    "id": "350lGsfY3UGp"
   },
   "source": [
    "## 2.1. Density\n",
    "\n",
    "The proportion of present edges from all possible edges in the network. In particular, for undirected simple graphs, the graph density is defined as D=2|E||V|(|V|−1). While for directed simple graphs, the graph density is defined as D=|E||V|(|V|−1), where |E| is the number of edges and |V| is the number of vertices in the graph. Note that the maximum number of edges is |V|(|V|−1)2."
   ]
  },
  {
   "cell_type": "code",
   "execution_count": null,
   "metadata": {
    "id": "i3tILZk43UGq",
    "outputId": "510d1dae-f583-4c39-dfac-bcd34833d554"
   },
   "outputs": [],
   "source": [
    "nx.classes.function.density(ba)"
   ]
  },
  {
   "cell_type": "markdown",
   "metadata": {
    "id": "485NTBaB3UGs"
   },
   "source": [
    "## 2.2 Reciprocity\n",
    "\n",
    "This is applicable only for directed graph."
   ]
  },
  {
   "cell_type": "code",
   "execution_count": null,
   "metadata": {
    "id": "jX0iOV3ry-61",
    "outputId": "cc2ff4b5-3353-4f5f-b1ad-3d7c6e49f64d"
   },
   "outputs": [],
   "source": [
    "nx.reciprocity(ba)"
   ]
  },
  {
   "cell_type": "code",
   "execution_count": null,
   "metadata": {
    "id": "2L0gO14Y3UGs"
   },
   "outputs": [],
   "source": [
    "ba_D = nx.DiGraph(ba)"
   ]
  },
  {
   "cell_type": "code",
   "execution_count": null,
   "metadata": {
    "id": "j4uGfv363UGt",
    "outputId": "b36e4fc7-e989-48c9-e772-c5d32a25abe9"
   },
   "outputs": [],
   "source": [
    "nx.reciprocity(ba_D)"
   ]
  },
  {
   "cell_type": "markdown",
   "metadata": {
    "id": "PJGXkHFM3UGv"
   },
   "source": [
    "## 2.3. Transitivity"
   ]
  },
  {
   "cell_type": "code",
   "execution_count": null,
   "metadata": {
    "id": "8qopoDG3InKi",
    "outputId": "71e42aef-d071-479f-e258-13acdc22512d"
   },
   "outputs": [],
   "source": [
    "from IPython.display import Image\n",
    "#Image(\"transitivity.png\") #https://transportgeography.org/"
   ]
  },
  {
   "cell_type": "code",
   "execution_count": null,
   "metadata": {
    "id": "G33pvVr43UGv",
    "outputId": "a315b0ee-66c1-4a9a-eb7c-9f1e4a7bfa4a"
   },
   "outputs": [],
   "source": [
    "nx.transitivity(ba)"
   ]
  },
  {
   "cell_type": "code",
   "execution_count": null,
   "metadata": {
    "id": "v1sNTpgX3UGw",
    "outputId": "9d1b748e-c446-4b4a-f337-6538823e15ed"
   },
   "outputs": [],
   "source": [
    "sum(nx.triangles(ba).values()) #Compute the number of triangles."
   ]
  },
  {
   "cell_type": "markdown",
   "metadata": {
    "id": "_oVd9Uhd3UGy"
   },
   "source": [
    "## 2.4. Clustering coefficient"
   ]
  },
  {
   "cell_type": "code",
   "execution_count": null,
   "metadata": {
    "id": "H55Q5uRx3UGz",
    "outputId": "995beedc-f14b-4ab9-ffda-94cc4af0a2cd"
   },
   "outputs": [],
   "source": [
    "nx.average_clustering(ba) #Compute the average clustering coefficient for the graph G.\n",
    "#Global clustering coefficient"
   ]
  },
  {
   "cell_type": "code",
   "execution_count": null,
   "metadata": {
    "id": "PJ9vCoAO1ANs"
   },
   "outputs": [],
   "source": [
    "nx.clustering(ba) #Local CC for nodes"
   ]
  },
  {
   "cell_type": "code",
   "execution_count": null,
   "metadata": {
    "id": "LtnCVPiL0n7q",
    "outputId": "7cad4340-069a-4127-9400-a159eb46e353"
   },
   "outputs": [],
   "source": [
    "import statistics as stat\n",
    "stat.mean(nx.clustering(ba).values())"
   ]
  },
  {
   "cell_type": "markdown",
   "metadata": {
    "id": "lU0sjUu73UGz"
   },
   "source": [
    "## 2.5. Diameter"
   ]
  },
  {
   "cell_type": "code",
   "execution_count": null,
   "metadata": {
    "id": "Xndr_Ni03UG0",
    "outputId": "10365acf-9f92-4564-b99a-2061b75c1183"
   },
   "outputs": [],
   "source": [
    "nx.diameter(ba)"
   ]
  },
  {
   "cell_type": "code",
   "execution_count": null,
   "metadata": {
    "id": "TRjQgjKK1KKv",
    "outputId": "152af3ba-8272-47e0-a36d-2a4c03a80349"
   },
   "outputs": [],
   "source": [
    "G = nx.complete_graph(5)\n",
    "nx.diameter(G)"
   ]
  },
  {
   "cell_type": "code",
   "execution_count": null,
   "metadata": {
    "id": "IyHtjc0j1TzH",
    "outputId": "6f06b6d9-c0c0-46a4-b8f3-763c822f2bf4"
   },
   "outputs": [],
   "source": [
    "nx.draw(G)"
   ]
  },
  {
   "cell_type": "markdown",
   "metadata": {
    "id": "0_V_IEpT3UG0"
   },
   "source": [
    "## 2.6. Node degrees"
   ]
  },
  {
   "cell_type": "code",
   "execution_count": null,
   "metadata": {
    "id": "vuTq6vtx3UG1"
   },
   "outputs": [],
   "source": [
    "degrees = [ba.degree(n) for n in ba.nodes()]\n",
    "#degrees"
   ]
  },
  {
   "cell_type": "code",
   "execution_count": null,
   "metadata": {
    "id": "Np0p8vJu3UG1"
   },
   "outputs": [],
   "source": [
    "degree_sequence = sorted([d for n, d in ba.degree()], reverse=True)\n",
    "#degree_sequence"
   ]
  },
  {
   "cell_type": "markdown",
   "metadata": {
    "id": "oOXdCTC13UG2"
   },
   "source": [
    "## 2.7. Degree distribution"
   ]
  },
  {
   "cell_type": "code",
   "execution_count": null,
   "metadata": {
    "id": "ONfREMER3UG2",
    "outputId": "c8079602-e953-4f36-a0cb-68218c150291"
   },
   "outputs": [],
   "source": [
    "plt.hist(degrees)\n",
    "plt.show()"
   ]
  },
  {
   "cell_type": "markdown",
   "metadata": {
    "id": "1HORkgKJ3UG3"
   },
   "source": [
    "## 2.8. Paths"
   ]
  },
  {
   "cell_type": "code",
   "execution_count": null,
   "metadata": {
    "id": "bnPC53ym3UG3",
    "outputId": "179ed1a0-9394-468d-91ac-e2214751f6fd"
   },
   "outputs": [],
   "source": [
    "G = nx.complete_graph(4)\n",
    "all_simple_paths=nx.all_simple_paths(G, source=1, target=3) #Generate all simple paths in the graph G from source to target.\n",
    "print(list(all_simple_paths))"
   ]
  },
  {
   "cell_type": "code",
   "execution_count": null,
   "metadata": {
    "id": "2wTRroia3UG4",
    "outputId": "af85c86b-e38e-4d83-8b8f-79106712e16e"
   },
   "outputs": [],
   "source": [
    "all_simple_edge_paths=nx.all_simple_edge_paths(G, source=1, target=3) #Generate lists of edges for all simple paths in G from source to target.\n",
    "print(list(all_simple_edge_paths))"
   ]
  },
  {
   "cell_type": "code",
   "execution_count": null,
   "metadata": {
    "id": "wJA6NAzK3UG4",
    "outputId": "86ec9550-0ace-4c1e-ea82-f20867138d40"
   },
   "outputs": [],
   "source": [
    "is_simple_path=nx.is_simple_path(G, (1,3)) #Returns True if and only if nodes form a simple path in G.\n",
    "print(is_simple_path)"
   ]
  },
  {
   "cell_type": "code",
   "execution_count": null,
   "metadata": {
    "id": "bAfikG8x3UHk",
    "outputId": "ab218c0b-77b7-419f-8450-abf92b7655ec"
   },
   "outputs": [],
   "source": [
    "shortest_simple_paths=nx.shortest_simple_paths(G, source=1, target=3) #Generate all simple paths in the graph G from source to target,\n",
    "print(list(shortest_simple_paths))"
   ]
  },
  {
   "cell_type": "markdown",
   "metadata": {
    "id": "h1ZE6RL43UHl"
   },
   "source": [
    "## 2.9. Average shortest path length\n",
    "\n",
    "https://networkx.org/documentation/networkx-1.10/reference/algorithms.shortest_paths.html"
   ]
  },
  {
   "cell_type": "code",
   "execution_count": null,
   "metadata": {
    "id": "jLoKDHqO3UHm",
    "outputId": "f0a1f8d8-008a-40b5-c84a-214980988e68"
   },
   "outputs": [],
   "source": [
    "nx.shortest_path(G, source=1, target=3) #Compute shortest paths in the graph."
   ]
  },
  {
   "cell_type": "code",
   "execution_count": null,
   "metadata": {
    "id": "JWBmQDYS3UHm",
    "outputId": "e1eae7df-47f1-4a56-9f19-773f73b7c05b"
   },
   "outputs": [],
   "source": [
    "all_shortest_paths=nx.all_shortest_paths(G, source=1, target=3) #Compute all shortest paths in the graph.\n",
    "print(list(all_shortest_paths))"
   ]
  },
  {
   "cell_type": "code",
   "execution_count": null,
   "metadata": {
    "id": "4udC8_9A3UHn",
    "outputId": "c2af0323-2d5a-4230-9df9-a04f50ae445c"
   },
   "outputs": [],
   "source": [
    "nx.shortest_path_length(G, source=1, target=3) #Compute shortest path lengths in the graph."
   ]
  },
  {
   "cell_type": "code",
   "execution_count": null,
   "metadata": {
    "id": "dRD102GD3UHo",
    "outputId": "02cc00cd-0f68-44ba-effc-739f4df33cfe"
   },
   "outputs": [],
   "source": [
    "nx.average_shortest_path_length(G) #Return the average shortest path length."
   ]
  },
  {
   "cell_type": "code",
   "execution_count": null,
   "metadata": {
    "id": "YXbXMhkq3UHp",
    "outputId": "c31f0289-4afe-4158-c4ee-c60a5fd80d1c"
   },
   "outputs": [],
   "source": [
    "nx.average_shortest_path_length(ba)"
   ]
  },
  {
   "cell_type": "markdown",
   "metadata": {
    "id": "C_D2rRu83UHq"
   },
   "source": [
    "## 2.10. Connected components"
   ]
  },
  {
   "cell_type": "code",
   "execution_count": null,
   "metadata": {
    "id": "16vZztw34Fdq",
    "outputId": "b132e3f2-5ff6-429f-d149-2dfea7b65d20"
   },
   "outputs": [],
   "source": [
    "nx.draw(ba)"
   ]
  },
  {
   "cell_type": "code",
   "execution_count": null,
   "metadata": {
    "id": "O9j0Htwx3UHr",
    "outputId": "640fde77-e75e-4083-ca6b-348db58c97bd"
   },
   "outputs": [],
   "source": [
    "nx.algorithms.components.number_connected_components(ba)"
   ]
  },
  {
   "cell_type": "code",
   "execution_count": null,
   "metadata": {
    "id": "Kf_fUymu3UHs"
   },
   "outputs": [],
   "source": [
    "total_nodes = 1000\n",
    "n=total_nodes\n",
    "sequence = nx.random_powerlaw_tree_sequence(n, tries=1000000, seed=810)\n",
    "G = nx.configuration_model(sequence, seed=158)\n",
    "G=nx.Graph(G)\n",
    "G.remove_edges_from(nx.selfloop_edges(G))"
   ]
  },
  {
   "cell_type": "code",
   "execution_count": null,
   "metadata": {
    "id": "PjEfwJ8h3UHs",
    "outputId": "1a14831f-96e4-4377-d85b-4592213b0e7b"
   },
   "outputs": [],
   "source": [
    "nx.algorithms.components.number_connected_components(G)"
   ]
  },
  {
   "cell_type": "code",
   "execution_count": null,
   "metadata": {
    "id": "hxqxdHhl4o23",
    "outputId": "a917359e-de15-4642-931f-5d46e4c880df"
   },
   "outputs": [],
   "source": [
    "nx.draw(G)"
   ]
  },
  {
   "cell_type": "code",
   "execution_count": null,
   "metadata": {
    "id": "OWwRSf9K3UHt"
   },
   "outputs": [],
   "source": [
    "nx.write_gpickle(G, \"test.gpickle\") #save the graph as a pickle"
   ]
  },
  {
   "cell_type": "code",
   "execution_count": null,
   "metadata": {
    "id": "sNX8iwOR3UHt"
   },
   "outputs": [],
   "source": [
    "G1 = nx.read_gpickle(\"test.gpickle\") #read the saved graph"
   ]
  },
  {
   "cell_type": "code",
   "execution_count": null,
   "metadata": {
    "id": "5OSZ6DU23UHu"
   },
   "outputs": [],
   "source": [
    "#nx.is_isomorphic(G1, G) #Check whether two graphs are same\n",
    "#Note: Not a good idea as it is time consuming. Better is to compare properties."
   ]
  },
  {
   "cell_type": "code",
   "execution_count": null,
   "metadata": {
    "id": "Caivc0bI3UHu"
   },
   "outputs": [],
   "source": [
    "def net_prop_dict(G):\n",
    "    prop_dict = {}\n",
    "\n",
    "    prop_dict['no_of_nodes'] = nx.number_of_nodes(G)\n",
    "    prop_dict['no_of_edges'] = nx.number_of_edges(G)\n",
    "    if nx.is_connected(G):\n",
    "        prop_dict['average_shortest_path_length'] = nx.average_shortest_path_length(G)\n",
    "        prop_dict['diameter'] = nx.diameter(G)\n",
    "    prop_dict['transitivity'] = nx.transitivity(G)\n",
    "    prop_dict['average_clustering'] = nx.average_clustering(G)  #Global CC (or) CC for graph \n",
    "    prop_dict['edge_density'] = nx.classes.function.density(G)\n",
    "    prop_dict['average_degree'] = np.array([d for n, d in G.degree()]).sum()/nx.number_of_nodes(G)\n",
    "    prop_dict['total_triangles'] = np.array(list(nx.triangles(G).values())).sum()\n",
    "    prop_dict['number_connected_components'] = nx.algorithms.components.number_connected_components(G)\n",
    "    return prop_dict"
   ]
  },
  {
   "cell_type": "code",
   "execution_count": null,
   "metadata": {
    "id": "mcbDNdxL3UHw"
   },
   "outputs": [],
   "source": [
    "prop_dict_G = net_prop_dict(G)\n",
    "prop_dict_G1 = net_prop_dict(G1)"
   ]
  },
  {
   "cell_type": "code",
   "execution_count": null,
   "metadata": {
    "id": "0Pq7L_iW3UHw",
    "outputId": "f72629e4-cf7b-4e31-c8ed-8e4dc5b79fe9"
   },
   "outputs": [],
   "source": [
    "prop_dict_G"
   ]
  },
  {
   "cell_type": "code",
   "execution_count": null,
   "metadata": {
    "id": "R3dPsbYy3UHx",
    "outputId": "0bf56e75-7408-4ca2-866c-7aac01020f6e"
   },
   "outputs": [],
   "source": [
    "prop_dict_G == prop_dict_G1"
   ]
  },
  {
   "cell_type": "markdown",
   "metadata": {
    "id": "hVzGKY7Y3UHy"
   },
   "source": [
    "## 2.11. Giant component"
   ]
  },
  {
   "cell_type": "code",
   "execution_count": null,
   "metadata": {
    "id": "LC94Te4s3UH0",
    "outputId": "b4412a6b-ce5a-4250-dbb5-41df843aa58d"
   },
   "outputs": [],
   "source": [
    "nx.draw(G)"
   ]
  },
  {
   "cell_type": "code",
   "execution_count": null,
   "metadata": {
    "id": "-FUm4RwE3UHz",
    "outputId": "9c1ad351-ae28-499f-e49c-5d98a1f81b6b"
   },
   "outputs": [],
   "source": [
    "Gcc = sorted(nx.connected_components(G), key=len, reverse=True)\n",
    "G0 = G.subgraph(Gcc[0])\n",
    "nx.draw(G0)"
   ]
  },
  {
   "cell_type": "code",
   "execution_count": null,
   "metadata": {
    "id": "0uQ92XX63UH0",
    "outputId": "881cc7a7-756d-46b9-b2c7-41caab4745e9"
   },
   "outputs": [],
   "source": [
    "net_prop_dict(G0)"
   ]
  },
  {
   "cell_type": "markdown",
   "metadata": {
    "id": "rdzFQZ_R3UH1"
   },
   "source": [
    "## 2.12. k-cores"
   ]
  },
  {
   "cell_type": "code",
   "execution_count": null,
   "metadata": {
    "id": "EwgfnO2M3UH1"
   },
   "outputs": [],
   "source": [
    "k_core = nx.k_core(G, k=2)"
   ]
  },
  {
   "cell_type": "code",
   "execution_count": null,
   "metadata": {
    "id": "447DIcqA3UH2",
    "outputId": "d24fdf77-4895-4ca8-f64d-6daa9c7755d6"
   },
   "outputs": [],
   "source": [
    "nx.draw(k_core)"
   ]
  },
  {
   "cell_type": "code",
   "execution_count": null,
   "metadata": {
    "id": "1Q8aRxRS3UH2",
    "outputId": "eea72662-42f1-4167-c517-23feef0ab488"
   },
   "outputs": [],
   "source": [
    "net_prop_dict(k_core)"
   ]
  },
  {
   "cell_type": "markdown",
   "metadata": {
    "id": "Mm7QI_Na3UH3"
   },
   "source": [
    "# 3. Summay"
   ]
  },
  {
   "cell_type": "code",
   "execution_count": null,
   "metadata": {
    "id": "5ddM7PtT3UH3"
   },
   "outputs": [],
   "source": [
    "def net_prop_dict(G):\n",
    "    prop_dict = {}\n",
    "\n",
    "    prop_dict['no_of_nodes'] = nx.number_of_nodes(G)\n",
    "    prop_dict['no_of_edges'] = nx.number_of_edges(G)\n",
    "    if nx.is_connected(G):\n",
    "        prop_dict['average_shortest_path_length'] = nx.average_shortest_path_length(G)\n",
    "        prop_dict['diameter'] = nx.diameter(G)\n",
    "    prop_dict['transitivity'] = nx.transitivity(G)\n",
    "    prop_dict['average_clustering'] = nx.average_clustering(G)   \n",
    "    prop_dict['edge_density'] = nx.classes.function.density(G)\n",
    "    prop_dict['average_degree'] = np.array([d for n, d in G.degree()]).sum()/nx.number_of_nodes(G)\n",
    "    prop_dict['total_triangles'] = np.array(list(nx.triangles(G).values())).sum()\n",
    "    prop_dict['number_connected_components'] = nx.algorithms.components.number_connected_components(G)\n",
    "    return prop_dict"
   ]
  },
  {
   "cell_type": "code",
   "execution_count": null,
   "metadata": {
    "id": "xW5oTk9d3UH4"
   },
   "outputs": [],
   "source": [
    "def net_prop_dict_whole(G, k):\n",
    "    prop_dict = {}\n",
    "\n",
    "    prop_dict['no_of_nodes'] = nx.number_of_nodes(G)\n",
    "    prop_dict['no_of_edges'] = nx.number_of_edges(G)\n",
    "    if nx.is_connected(G):\n",
    "        prop_dict['average_shortest_path_length'] = nx.average_shortest_path_length(G)\n",
    "        prop_dict['diameter'] = nx.diameter(G)\n",
    "    prop_dict['transitivity'] = nx.transitivity(G)\n",
    "    prop_dict['average_clustering'] = nx.average_clustering(G)   \n",
    "    prop_dict['edge_density'] = nx.classes.function.density(G)\n",
    "    prop_dict['average_degree'] = np.array([d for n, d in G.degree()]).sum()/nx.number_of_nodes(G)\n",
    "    prop_dict['total_triangles'] = np.array(list(nx.triangles(G).values())).sum()\n",
    "    prop_dict['number_connected_components'] = nx.algorithms.components.number_connected_components(G)\n",
    "    prop_dict['giant_component_prop'] = net_prop_dict(G.subgraph(sorted(nx.connected_components(G), key=len, reverse=True)[0]))\n",
    "    prop_dict['k_core_prop'] = net_prop_dict(nx.k_core(G))\n",
    "    return prop_dict"
   ]
  },
  {
   "cell_type": "code",
   "execution_count": null,
   "metadata": {
    "id": "XUQF_0Up3UH4",
    "outputId": "99a7f6cb-2f1a-4391-f219-db8d0eb044c3"
   },
   "outputs": [],
   "source": [
    "net_prop_dict_whole(G, 2)"
   ]
  },
  {
   "cell_type": "markdown",
   "metadata": {
    "id": "iaAGEapX3UH5"
   },
   "source": [
    "## Create networkx graph using nodes (InputFileNodes.csv) and edges (InputFileEdges.csv) datasets."
   ]
  },
  {
   "cell_type": "code",
   "execution_count": null,
   "metadata": {
    "id": "ZbGmuEoM3UH5",
    "outputId": "3069f55e-4572-4a81-e191-0f8bfab326c9"
   },
   "outputs": [],
   "source": [
    "import pandas as pd\n",
    "nodes = pd.read_csv('../input/network-analysis-data-from-various-sources/InputFileNodes.csv')\n",
    "edges = pd.read_csv('../input/network-analysis-data-from-various-sources/InputFileEdges.csv')\n",
    "\n",
    "#Collapse all edges of the same type between the same two nodes by summing their weights\n",
    "edges = edges.groupby(['from', 'to', 'type'])['weight'].sum().reset_index()\n",
    "\n",
    "G = nx.from_pandas_edgelist(edges, source='from', target='to',edge_attr=True)"
   ]
  },
  {
   "cell_type": "code",
   "execution_count": null,
   "metadata": {},
   "outputs": [],
   "source": [
    "net_prop_dict_whole(G, 2)"
   ]
  },
  {
   "cell_type": "markdown",
   "metadata": {
    "id": "RRV36YmE3UH6"
   },
   "source": [
    "## Calculate various properties on various graphs."
   ]
  },
  {
   "cell_type": "code",
   "execution_count": null,
   "metadata": {},
   "outputs": [],
   "source": [
    "G_undirected_unweighted = nx.from_pandas_edgelist(edges, source='from', target='to')\n",
    "G_directed_unweighted = nx.from_pandas_edgelist(edges, source='from', target='to', create_using=nx.DiGraph())\n",
    "G_undirected_weighted = nx.from_pandas_edgelist(edges, source='from', target='to',edge_attr=True)\n",
    "G_directed_weighted = nx.from_pandas_edgelist(edges, source='from', target='to',edge_attr=True, create_using=nx.DiGraph())"
   ]
  },
  {
   "cell_type": "code",
   "execution_count": null,
   "metadata": {
    "id": "R4R1R9WQ3UH6"
   },
   "outputs": [],
   "source": [
    "#Calculate properties (1) considering weights + Undirected graph, (2) without considering weights + undirected graph\n",
    "#(3) considering weights + Directed graph and (4) without considering weights + Directed graph"
   ]
  },
  {
   "cell_type": "code",
   "execution_count": null,
   "metadata": {},
   "outputs": [],
   "source": [
    "net_prop_dict_whole(G_undirected_unweighted, 2)"
   ]
  },
  {
   "cell_type": "code",
   "execution_count": null,
   "metadata": {},
   "outputs": [],
   "source": [
    "net_prop_dict_whole(G_undirected_weighted, 2)"
   ]
  },
  {
   "cell_type": "code",
   "execution_count": null,
   "metadata": {},
   "outputs": [],
   "source": []
  }
 ],
 "metadata": {
  "kernelspec": {
   "display_name": "Python 3 (ipykernel)",
   "language": "python",
   "name": "python3"
  },
  "language_info": {
   "codemirror_mode": {
    "name": "ipython",
    "version": 3
   },
   "file_extension": ".py",
   "mimetype": "text/x-python",
   "name": "python",
   "nbconvert_exporter": "python",
   "pygments_lexer": "ipython3",
   "version": "3.8.16"
  }
 },
 "nbformat": 4,
 "nbformat_minor": 4
}
