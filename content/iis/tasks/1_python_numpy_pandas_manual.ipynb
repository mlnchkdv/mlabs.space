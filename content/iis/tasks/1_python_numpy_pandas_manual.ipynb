{
 "cells": [
  {
   "cell_type": "markdown",
   "id": "0dc80daf",
   "metadata": {
    "heading_collapsed": true
   },
   "source": [
    "# Основные понятия Python"
   ]
  },
  {
   "cell_type": "markdown",
   "id": "ca5f031c",
   "metadata": {
    "hidden": true
   },
   "source": [
    "## Условные выражения (IF...ELSE, IF...ELIF)"
   ]
  },
  {
   "cell_type": "markdown",
   "id": "aa10db2c",
   "metadata": {
    "hidden": true
   },
   "source": [
    "Условные инструкции - это тип **структуры управления потоком**: блок кода, который может принимать решения, анализируя значения переменных. Условная инструкция представляет собой код, который может выполнять дополнительный код в зависимости от определенного условия."
   ]
  },
  {
   "cell_type": "markdown",
   "id": "fa299dea",
   "metadata": {
    "hidden": true
   },
   "source": [
    "### IF...ELSE\n",
    "*Пример:* **Если** имеющаяся сумма больше стоимости книги, то вывести какая сумма останется после покупки, **иначе** вывести сообщение \"Не хватает средств\"."
   ]
  },
  {
   "cell_type": "code",
   "execution_count": 6,
   "id": "5706f5a5",
   "metadata": {
    "ExecuteTime": {
     "end_time": "2023-09-08T16:57:39.070176Z",
     "start_time": "2023-09-08T16:57:33.634072Z"
    },
    "hidden": true
   },
   "outputs": [
    {
     "name": "stdout",
     "output_type": "stream",
     "text": [
      "Общая сумма:1069\n",
      "Стоимость книги:890\n",
      "Остаток: 179\n"
     ]
    }
   ],
   "source": [
    "amount = int(input(\"Общая сумма:\"))\n",
    "price_book = int(input(\"Стоимость книги:\"))\n",
    "\n",
    "if amount >= price_book:\n",
    "    amount-=price_book\n",
    "    print(\"Остаток: {}\".format(amount))\n",
    "else:\n",
    "    print(\"Недостаточно средств\")"
   ]
  },
  {
   "cell_type": "markdown",
   "id": "eef934dc",
   "metadata": {
    "ExecuteTime": {
     "end_time": "2023-09-08T17:02:08.845762Z",
     "start_time": "2023-09-08T17:02:08.838557Z"
    },
    "hidden": true
   },
   "source": [
    "### IF...ELIF\n",
    "*Пример:* **Если** имеющаяся сумма больше стоимости книги, то вывести какая сумма останется после покупки, **иначе если** не хватает только 100 рублей, то прибавить к имеющейся сумме 100 рублей и вывести сообщение \"Книга куплена!\", **иначе** вывести сообщение \"Не хватает средств\"."
   ]
  },
  {
   "cell_type": "code",
   "execution_count": 9,
   "id": "4830d88d",
   "metadata": {
    "ExecuteTime": {
     "end_time": "2023-09-08T17:18:57.799233Z",
     "start_time": "2023-09-08T17:18:50.371026Z"
    },
    "hidden": true
   },
   "outputs": [
    {
     "name": "stdout",
     "output_type": "stream",
     "text": [
      "Общая сумма:1000\n",
      "Стоимость книги:1500\n",
      "Недостаточно средств\n"
     ]
    }
   ],
   "source": [
    "#Решение\n",
    "\n",
    "amount = int(input(\"Общая сумма:\"))\n",
    "price_book = int(input(\"Стоимость книги:\"))\n",
    "\n",
    "if amount >= price_book:\n",
    "    amount-=price_book\n",
    "    print(\"Остаток: {}\".format(amount))\n",
    "elif (price_book - amount) <= 100:\n",
    "    amount+=100\n",
    "    print(\"Книга куплена!\")\n",
    "else:\n",
    "    print(\"Недостаточно средств\")"
   ]
  },
  {
   "cell_type": "markdown",
   "id": "d0d74442",
   "metadata": {
    "heading_collapsed": true
   },
   "source": [
    "# Циклы"
   ]
  },
  {
   "cell_type": "markdown",
   "id": "477c4a3f",
   "metadata": {
    "heading_collapsed": true,
    "hidden": true
   },
   "source": [
    "## FOR ... in ..."
   ]
  },
  {
   "cell_type": "markdown",
   "id": "9b7e345f",
   "metadata": {
    "hidden": true
   },
   "source": [
    "**for** - цикл, перебирающий итерируемый объект. Процесс перебора называется **итерированием**"
   ]
  },
  {
   "cell_type": "code",
   "execution_count": 36,
   "id": "b2542298",
   "metadata": {
    "ExecuteTime": {
     "end_time": "2023-09-08T17:49:14.008816Z",
     "start_time": "2023-09-08T17:49:14.001387Z"
    },
    "code_folding": [
     2
    ],
    "hidden": true
   },
   "outputs": [
    {
     "name": "stdout",
     "output_type": "stream",
     "text": [
      "0\n",
      "1\n",
      "2\n",
      "3\n",
      "4\n",
      "5\n",
      "6\n",
      "7\n",
      "8\n",
      "9\n",
      "10\n",
      "11\n",
      "12\n",
      "13\n",
      "14\n",
      "15\n",
      "16\n",
      "17\n",
      "18\n",
      "19\n"
     ]
    }
   ],
   "source": [
    "#range(count) - 0,...,count\n",
    "\n",
    "for item in range(20):\n",
    "    print(item)"
   ]
  },
  {
   "cell_type": "code",
   "execution_count": 38,
   "id": "b8480a00",
   "metadata": {
    "ExecuteTime": {
     "end_time": "2023-09-08T17:55:56.976964Z",
     "start_time": "2023-09-08T17:55:56.971780Z"
    },
    "code_folding": [
     2
    ],
    "hidden": true
   },
   "outputs": [
    {
     "name": "stdout",
     "output_type": "stream",
     "text": [
      "23\n",
      "0\n",
      "67\n",
      "14\n"
     ]
    }
   ],
   "source": [
    "list_1 = [23, 12, 0, 45, 67, 100, 14]\n",
    " \n",
    "for i in range(0, len(list_1), 2) :\n",
    "    print(list_1[i])"
   ]
  },
  {
   "cell_type": "code",
   "execution_count": 84,
   "id": "029cecfb",
   "metadata": {
    "ExecuteTime": {
     "end_time": "2023-09-08T18:41:25.247945Z",
     "start_time": "2023-09-08T18:41:25.240752Z"
    },
    "hidden": true
   },
   "outputs": [
    {
     "name": "stdout",
     "output_type": "stream",
     "text": [
      "H\n",
      "e\n",
      "l\n",
      "l\n",
      "o\n",
      ",\n",
      "w\n",
      "o\n",
      "r\n",
      "l\n",
      "d\n",
      "!\n"
     ]
    }
   ],
   "source": [
    "string = \"Hello,world!\"\n",
    "for char in string:\n",
    "    print(char) #end='\\n'"
   ]
  },
  {
   "cell_type": "markdown",
   "id": "66935e02",
   "metadata": {
    "hidden": true
   },
   "source": [
    "*Пример:* Вывести, сколько раз втречается каждый символ в строке."
   ]
  },
  {
   "cell_type": "code",
   "execution_count": 100,
   "id": "3bab4d08",
   "metadata": {
    "ExecuteTime": {
     "end_time": "2023-09-08T18:55:50.783548Z",
     "start_time": "2023-09-08T18:55:50.777316Z"
    },
    "hidden": true
   },
   "outputs": [
    {
     "name": "stdout",
     "output_type": "stream",
     "text": [
      "{'l': 3, 'o': 2, 'e': 1, 'r': 1, 'H': 1, 'w': 1, '!': 1, 'd': 1, ',': 1}\n"
     ]
    }
   ],
   "source": [
    "#set(string)  #\"abcdefabcrtyf\".count('abc')\n",
    "counted_chars = dict()\n",
    "for char in set(string): \n",
    "    counted_chars.update({char: string.count(char)})\n",
    "print(counted_chars)    "
   ]
  },
  {
   "cell_type": "code",
   "execution_count": 88,
   "id": "85d194a0",
   "metadata": {
    "ExecuteTime": {
     "end_time": "2023-09-08T18:50:01.936349Z",
     "start_time": "2023-09-08T18:50:01.931069Z"
    },
    "code_folding": [
     0
    ],
    "hidden": true
   },
   "outputs": [
    {
     "data": {
      "text/plain": [
       "'5+6+4+7+3+8+9'"
      ]
     },
     "execution_count": 88,
     "metadata": {},
     "output_type": "execute_result"
    }
   ],
   "source": [
    "#Операции со строками\n",
    "\n",
    "\"+\".join('5647389')  #\"Hello, world, its me!\".split(','), 'Hello\\'+\"World\" ' "
   ]
  },
  {
   "cell_type": "markdown",
   "id": "0ee8682a",
   "metadata": {
    "heading_collapsed": true,
    "hidden": true
   },
   "source": [
    "## While\n"
   ]
  },
  {
   "cell_type": "markdown",
   "id": "49951261",
   "metadata": {
    "hidden": true
   },
   "source": [
    "Цикл **while** выполняет код до тех пор, пока выражение истинно (принимает значение True)"
   ]
  },
  {
   "cell_type": "markdown",
   "id": "18a62699",
   "metadata": {
    "hidden": true
   },
   "source": [
    "`while выражение:\n",
    "     код_для_выполнения`"
   ]
  },
  {
   "cell_type": "code",
   "execution_count": 109,
   "id": "f921bd27",
   "metadata": {
    "ExecuteTime": {
     "end_time": "2023-09-08T19:06:14.822381Z",
     "start_time": "2023-09-08T19:06:14.816390Z"
    },
    "hidden": true
   },
   "outputs": [
    {
     "name": "stdout",
     "output_type": "stream",
     "text": [
      "10\n",
      "9\n",
      "8\n",
      "7\n",
      "6\n",
      "5\n",
      "4\n",
      "3\n",
      "2\n",
      "1\n"
     ]
    }
   ],
   "source": [
    "x=10\n",
    "while x>0:\n",
    "    print('{}'.format(x))\n",
    "    x-=1"
   ]
  },
  {
   "cell_type": "code",
   "execution_count": 111,
   "id": "3c1fc0dc",
   "metadata": {
    "ExecuteTime": {
     "end_time": "2023-09-08T19:07:42.775780Z",
     "start_time": "2023-09-08T19:07:42.769414Z"
    },
    "hidden": true
   },
   "outputs": [
    {
     "name": "stdout",
     "output_type": "stream",
     "text": [
      "10\n",
      "9\n",
      "8\n",
      "7\n",
      "6\n",
      "Цикл завершен\n"
     ]
    }
   ],
   "source": [
    "x=10\n",
    "while x>0:\n",
    "    if x==5:\n",
    "        print (\"Цикл завершен\")\n",
    "        break\n",
    "    else:\n",
    "        print('{}'.format(x))\n",
    "        x-=1"
   ]
  },
  {
   "cell_type": "markdown",
   "id": "ec2cdb03",
   "metadata": {
    "heading_collapsed": true
   },
   "source": [
    "# Функции"
   ]
  },
  {
   "cell_type": "markdown",
   "id": "3e45702b",
   "metadata": {
    "hidden": true,
    "run_control": {
     "marked": false
    }
   },
   "source": [
    "**Функции** - составные инструкции, которые могут принимать данные ввода, выполнять указания и возвращать данные вывода. Функции позволяют определять и повторно использовать определенную функциональность."
   ]
  },
  {
   "cell_type": "code",
   "execution_count": 125,
   "id": "99c23c05",
   "metadata": {
    "ExecuteTime": {
     "end_time": "2023-09-08T19:53:22.855544Z",
     "start_time": "2023-09-08T19:53:22.849079Z"
    },
    "hidden": true
   },
   "outputs": [
    {
     "data": {
      "text/plain": [
       "22"
      ]
     },
     "execution_count": 125,
     "metadata": {},
     "output_type": "execute_result"
    }
   ],
   "source": [
    "def calculate_sum(x, y):  \n",
    "    sum=x+y\n",
    "    return sum\n",
    "\n",
    "calculate_sum(10, 12)"
   ]
  },
  {
   "cell_type": "code",
   "execution_count": 40,
   "id": "2c8f17d8",
   "metadata": {
    "ExecuteTime": {
     "end_time": "2023-09-08T22:17:37.883984Z",
     "start_time": "2023-09-08T22:17:37.875987Z"
    },
    "code_folding": [
     0
    ],
    "hidden": true
   },
   "outputs": [
    {
     "name": "stdout",
     "output_type": "stream",
     "text": [
      "1\n",
      "2\n",
      "3\n"
     ]
    }
   ],
   "source": [
    "#Область видимости\n",
    "\n",
    "x=1\n",
    "y=2\n",
    "z=3\n",
    "\n",
    "def f():\n",
    "    print(x)\n",
    "    print(y)\n",
    "    print(z)\n",
    "    \n",
    "f()"
   ]
  },
  {
   "cell_type": "code",
   "execution_count": 43,
   "id": "be47779e",
   "metadata": {
    "ExecuteTime": {
     "end_time": "2023-09-08T22:19:39.354156Z",
     "start_time": "2023-09-08T22:19:39.334166Z"
    },
    "code_folding": [
     0
    ],
    "hidden": true,
    "run_control": {
     "marked": false
    }
   },
   "outputs": [
    {
     "ename": "NameError",
     "evalue": "name 'a' is not defined",
     "output_type": "error",
     "traceback": [
      "\u001b[0;31m---------------------------------------------------------------------------\u001b[0m",
      "\u001b[0;31mNameError\u001b[0m                                 Traceback (most recent call last)",
      "Input \u001b[0;32mIn [43]\u001b[0m, in \u001b[0;36m<cell line: 9>\u001b[0;34m()\u001b[0m\n\u001b[1;32m      4\u001b[0m     c\u001b[38;5;241m=\u001b[39m\u001b[38;5;241m3\u001b[39m\n\u001b[1;32m      5\u001b[0m     \u001b[38;5;66;03m#print(a)\u001b[39;00m\n\u001b[1;32m      6\u001b[0m     \u001b[38;5;66;03m#print(b)\u001b[39;00m\n\u001b[1;32m      7\u001b[0m     \u001b[38;5;66;03m#print(c)\u001b[39;00m\n\u001b[0;32m----> 9\u001b[0m \u001b[38;5;28mprint\u001b[39m(\u001b[43ma\u001b[49m)\n",
      "\u001b[0;31mNameError\u001b[0m: name 'a' is not defined"
     ]
    }
   ],
   "source": [
    "def f():\n",
    "    a=1\n",
    "    b=2\n",
    "    c=3\n",
    "    #print(a)\n",
    "    #print(b)\n",
    "    #print(c)\n",
    "    \n",
    "print(a)"
   ]
  },
  {
   "cell_type": "code",
   "execution_count": 170,
   "id": "cf3a66b6",
   "metadata": {
    "ExecuteTime": {
     "end_time": "2023-09-08T20:47:14.358000Z",
     "start_time": "2023-09-08T20:47:14.346457Z"
    },
    "hidden": true
   },
   "outputs": [],
   "source": [
    "??calculate_sum"
   ]
  },
  {
   "cell_type": "markdown",
   "id": "1416cff3",
   "metadata": {
    "heading_collapsed": true
   },
   "source": [
    "# NumPy\n",
    "\n",
    "**NumPy** (от Numerical Python - \"числовой Python\") - библиотека, предназначенная для работы с числовыми массивами, как одномерными, так и многомерными. Массивы библиотеки NumPy похожи на встроенный тип данных Python list, но обеспечивает гораздо более эффективное хранение и операциис данными при росте размера массивов.\n"
   ]
  },
  {
   "cell_type": "code",
   "execution_count": 174,
   "id": "8123fac3",
   "metadata": {
    "ExecuteTime": {
     "end_time": "2023-09-08T20:57:38.134758Z",
     "start_time": "2023-09-08T20:57:38.129862Z"
    },
    "hidden": true
   },
   "outputs": [],
   "source": [
    "import numpy as np"
   ]
  },
  {
   "cell_type": "code",
   "execution_count": 133,
   "id": "55a4bfb4",
   "metadata": {
    "ExecuteTime": {
     "end_time": "2023-09-08T20:31:24.768527Z",
     "start_time": "2023-09-08T20:31:24.760175Z"
    },
    "hidden": true
   },
   "outputs": [
    {
     "data": {
      "text/plain": [
       "array([ 2,  6,  3, 10, 16, 15, 23, 56])"
      ]
     },
     "execution_count": 133,
     "metadata": {},
     "output_type": "execute_result"
    }
   ],
   "source": [
    "arr_1 = np.array([2, 6, 3, 10, 16, 15, 23, 56])\n",
    "arr_1"
   ]
  },
  {
   "cell_type": "code",
   "execution_count": 152,
   "id": "85f8bcea",
   "metadata": {
    "ExecuteTime": {
     "end_time": "2023-09-08T20:40:25.702862Z",
     "start_time": "2023-09-08T20:40:25.696688Z"
    },
    "hidden": true
   },
   "outputs": [
    {
     "data": {
      "text/plain": [
       "array([2, 6, 3])"
      ]
     },
     "execution_count": 152,
     "metadata": {},
     "output_type": "execute_result"
    }
   ],
   "source": [
    "#первые элементы\n",
    "arr_1[:3] "
   ]
  },
  {
   "cell_type": "code",
   "execution_count": 151,
   "id": "d0118bfa",
   "metadata": {
    "ExecuteTime": {
     "end_time": "2023-09-08T20:40:14.089338Z",
     "start_time": "2023-09-08T20:40:14.080884Z"
    },
    "hidden": true
   },
   "outputs": [
    {
     "data": {
      "text/plain": [
       "array([ 6,  3, 10, 16])"
      ]
     },
     "execution_count": 151,
     "metadata": {},
     "output_type": "execute_result"
    }
   ],
   "source": [
    "#с i последнего до n-j элемента\n",
    "\n",
    "arr_1[1:-3]"
   ]
  },
  {
   "cell_type": "code",
   "execution_count": 153,
   "id": "8ab1234b",
   "metadata": {
    "ExecuteTime": {
     "end_time": "2023-09-08T20:41:21.155008Z",
     "start_time": "2023-09-08T20:41:21.147103Z"
    },
    "hidden": true
   },
   "outputs": [
    {
     "data": {
      "text/plain": [
       "array([ 2,  3, 16, 23])"
      ]
     },
     "execution_count": 153,
     "metadata": {},
     "output_type": "execute_result"
    }
   ],
   "source": [
    "#каждый второй элемент\n",
    "\n",
    "arr_1[::2] "
   ]
  },
  {
   "cell_type": "code",
   "execution_count": 154,
   "id": "b367d277",
   "metadata": {
    "ExecuteTime": {
     "end_time": "2023-09-08T20:41:29.575068Z",
     "start_time": "2023-09-08T20:41:29.554580Z"
    },
    "hidden": true
   },
   "outputs": [
    {
     "data": {
      "text/plain": [
       "array([15, 10,  6])"
      ]
     },
     "execution_count": 154,
     "metadata": {},
     "output_type": "execute_result"
    }
   ],
   "source": [
    "#каждый второй элемент в обратном порядке, начиная с 5\n",
    "\n",
    "arr_1[5::-2]"
   ]
  },
  {
   "cell_type": "code",
   "execution_count": 17,
   "id": "a0b340a8",
   "metadata": {
    "ExecuteTime": {
     "end_time": "2023-09-08T21:55:40.983199Z",
     "start_time": "2023-09-08T21:55:40.976531Z"
    },
    "hidden": true
   },
   "outputs": [
    {
     "data": {
      "text/plain": [
       "array([[2, 3, 4],\n",
       "       [4, 5, 6],\n",
       "       [6, 7, 8]])"
      ]
     },
     "execution_count": 17,
     "metadata": {},
     "output_type": "execute_result"
    }
   ],
   "source": [
    "arr_2 = np.array([range(i, i+3) for i in [2,4,6]])\n",
    "arr_2"
   ]
  },
  {
   "cell_type": "code",
   "execution_count": 161,
   "id": "7ade7b28",
   "metadata": {
    "ExecuteTime": {
     "end_time": "2023-09-08T20:43:51.772370Z",
     "start_time": "2023-09-08T20:43:51.765690Z"
    },
    "hidden": true
   },
   "outputs": [
    {
     "data": {
      "text/plain": [
       "6"
      ]
     },
     "execution_count": 161,
     "metadata": {},
     "output_type": "execute_result"
    }
   ],
   "source": [
    "arr_2[1][2]"
   ]
  },
  {
   "cell_type": "code",
   "execution_count": 167,
   "id": "681561df",
   "metadata": {
    "ExecuteTime": {
     "end_time": "2023-09-08T20:45:25.751867Z",
     "start_time": "2023-09-08T20:45:25.743295Z"
    },
    "hidden": true
   },
   "outputs": [
    {
     "data": {
      "text/plain": [
       "array([[2, 4],\n",
       "       [4, 6],\n",
       "       [6, 8]])"
      ]
     },
     "execution_count": 167,
     "metadata": {},
     "output_type": "execute_result"
    }
   ],
   "source": [
    "#все строки, каждый второй столбец\n",
    "\n",
    "arr_2[:, ::2]"
   ]
  },
  {
   "cell_type": "code",
   "execution_count": 173,
   "id": "3554cea8",
   "metadata": {
    "ExecuteTime": {
     "end_time": "2023-09-08T20:48:54.791433Z",
     "start_time": "2023-09-08T20:48:54.781291Z"
    },
    "hidden": true
   },
   "outputs": [
    {
     "data": {
      "text/plain": [
       "array([[2, 3, 4],\n",
       "       [4, 5, 6],\n",
       "       [6, 7, 8],\n",
       "       [2, 3, 4],\n",
       "       [4, 5, 6],\n",
       "       [6, 7, 8]])"
      ]
     },
     "execution_count": 173,
     "metadata": {},
     "output_type": "execute_result"
    }
   ],
   "source": [
    "#объединение массивов\n",
    "np.concatenate([arr_2, arr_2])   #np.concatenate([arr_2, arr_2], axis=1)"
   ]
  },
  {
   "cell_type": "code",
   "execution_count": 19,
   "id": "e6e23c5c",
   "metadata": {
    "ExecuteTime": {
     "end_time": "2023-09-08T21:56:54.376901Z",
     "start_time": "2023-09-08T21:56:54.370770Z"
    },
    "hidden": true
   },
   "outputs": [
    {
     "data": {
      "text/plain": [
       "8"
      ]
     },
     "execution_count": 19,
     "metadata": {},
     "output_type": "execute_result"
    }
   ],
   "source": [
    "np.sum(arr_2<7)"
   ]
  },
  {
   "cell_type": "markdown",
   "id": "6aa1c5cd",
   "metadata": {
    "ExecuteTime": {
     "end_time": "2023-09-08T20:46:53.832065Z",
     "start_time": "2023-09-08T20:46:53.821427Z"
    }
   },
   "source": [
    "# Pandas\n",
    "**Pandas** - библиотека на языке Python для обработки и анализа данных. Pandas является надстройкой над библиотекой NumPy, обеспечивающей эффективную реализацию класса DataFrame. Объекты **DataFrame** - многомерные массивы с метками для строк и столбцов, а также зачастую с неоднородным типом данных и/или пропущенными данными."
   ]
  },
  {
   "cell_type": "code",
   "execution_count": 2,
   "id": "64de0616",
   "metadata": {
    "ExecuteTime": {
     "end_time": "2023-09-08T21:49:14.364833Z",
     "start_time": "2023-09-08T21:49:13.867908Z"
    }
   },
   "outputs": [],
   "source": [
    "import pandas as pd"
   ]
  },
  {
   "cell_type": "code",
   "execution_count": 3,
   "id": "0602964e",
   "metadata": {
    "ExecuteTime": {
     "end_time": "2023-09-08T21:49:16.158757Z",
     "start_time": "2023-09-08T21:49:16.104416Z"
    }
   },
   "outputs": [
    {
     "data": {
      "text/html": [
       "<div>\n",
       "<style scoped>\n",
       "    .dataframe tbody tr th:only-of-type {\n",
       "        vertical-align: middle;\n",
       "    }\n",
       "\n",
       "    .dataframe tbody tr th {\n",
       "        vertical-align: top;\n",
       "    }\n",
       "\n",
       "    .dataframe thead th {\n",
       "        text-align: right;\n",
       "    }\n",
       "</style>\n",
       "<table border=\"1\" class=\"dataframe\">\n",
       "  <thead>\n",
       "    <tr style=\"text-align: right;\">\n",
       "      <th></th>\n",
       "      <th>sepal.length</th>\n",
       "      <th>sepal.width</th>\n",
       "      <th>petal.length</th>\n",
       "      <th>petal.width</th>\n",
       "      <th>variety</th>\n",
       "    </tr>\n",
       "  </thead>\n",
       "  <tbody>\n",
       "    <tr>\n",
       "      <th>0</th>\n",
       "      <td>5.1</td>\n",
       "      <td>3.5</td>\n",
       "      <td>1.4</td>\n",
       "      <td>0.2</td>\n",
       "      <td>Setosa</td>\n",
       "    </tr>\n",
       "    <tr>\n",
       "      <th>1</th>\n",
       "      <td>4.9</td>\n",
       "      <td>3.0</td>\n",
       "      <td>1.4</td>\n",
       "      <td>0.2</td>\n",
       "      <td>Setosa</td>\n",
       "    </tr>\n",
       "    <tr>\n",
       "      <th>2</th>\n",
       "      <td>4.7</td>\n",
       "      <td>3.2</td>\n",
       "      <td>1.3</td>\n",
       "      <td>0.2</td>\n",
       "      <td>Setosa</td>\n",
       "    </tr>\n",
       "    <tr>\n",
       "      <th>3</th>\n",
       "      <td>4.6</td>\n",
       "      <td>3.1</td>\n",
       "      <td>1.5</td>\n",
       "      <td>0.2</td>\n",
       "      <td>Setosa</td>\n",
       "    </tr>\n",
       "    <tr>\n",
       "      <th>4</th>\n",
       "      <td>5.0</td>\n",
       "      <td>3.6</td>\n",
       "      <td>1.4</td>\n",
       "      <td>0.2</td>\n",
       "      <td>Setosa</td>\n",
       "    </tr>\n",
       "    <tr>\n",
       "      <th>...</th>\n",
       "      <td>...</td>\n",
       "      <td>...</td>\n",
       "      <td>...</td>\n",
       "      <td>...</td>\n",
       "      <td>...</td>\n",
       "    </tr>\n",
       "    <tr>\n",
       "      <th>145</th>\n",
       "      <td>6.7</td>\n",
       "      <td>3.0</td>\n",
       "      <td>5.2</td>\n",
       "      <td>2.3</td>\n",
       "      <td>Virginica</td>\n",
       "    </tr>\n",
       "    <tr>\n",
       "      <th>146</th>\n",
       "      <td>6.3</td>\n",
       "      <td>2.5</td>\n",
       "      <td>5.0</td>\n",
       "      <td>1.9</td>\n",
       "      <td>Virginica</td>\n",
       "    </tr>\n",
       "    <tr>\n",
       "      <th>147</th>\n",
       "      <td>6.5</td>\n",
       "      <td>3.0</td>\n",
       "      <td>5.2</td>\n",
       "      <td>2.0</td>\n",
       "      <td>Virginica</td>\n",
       "    </tr>\n",
       "    <tr>\n",
       "      <th>148</th>\n",
       "      <td>6.2</td>\n",
       "      <td>3.4</td>\n",
       "      <td>5.4</td>\n",
       "      <td>2.3</td>\n",
       "      <td>Virginica</td>\n",
       "    </tr>\n",
       "    <tr>\n",
       "      <th>149</th>\n",
       "      <td>5.9</td>\n",
       "      <td>3.0</td>\n",
       "      <td>5.1</td>\n",
       "      <td>1.8</td>\n",
       "      <td>Virginica</td>\n",
       "    </tr>\n",
       "  </tbody>\n",
       "</table>\n",
       "<p>150 rows × 5 columns</p>\n",
       "</div>"
      ],
      "text/plain": [
       "     sepal.length  sepal.width  petal.length  petal.width    variety\n",
       "0             5.1          3.5           1.4          0.2     Setosa\n",
       "1             4.9          3.0           1.4          0.2     Setosa\n",
       "2             4.7          3.2           1.3          0.2     Setosa\n",
       "3             4.6          3.1           1.5          0.2     Setosa\n",
       "4             5.0          3.6           1.4          0.2     Setosa\n",
       "..            ...          ...           ...          ...        ...\n",
       "145           6.7          3.0           5.2          2.3  Virginica\n",
       "146           6.3          2.5           5.0          1.9  Virginica\n",
       "147           6.5          3.0           5.2          2.0  Virginica\n",
       "148           6.2          3.4           5.4          2.3  Virginica\n",
       "149           5.9          3.0           5.1          1.8  Virginica\n",
       "\n",
       "[150 rows x 5 columns]"
      ]
     },
     "execution_count": 3,
     "metadata": {},
     "output_type": "execute_result"
    }
   ],
   "source": [
    "dataset = pd.read_csv('/Users/chekmarevaalfiya/Desktop/practice_IIS_451/iris.csv')\n",
    "dataset"
   ]
  },
  {
   "cell_type": "code",
   "execution_count": 187,
   "id": "35ac08dc",
   "metadata": {
    "ExecuteTime": {
     "end_time": "2023-09-08T21:27:36.643560Z",
     "start_time": "2023-09-08T21:27:36.630790Z"
    }
   },
   "outputs": [
    {
     "name": "stdout",
     "output_type": "stream",
     "text": [
      "<class 'pandas.core.frame.DataFrame'>\n",
      "RangeIndex: 150 entries, 0 to 149\n",
      "Data columns (total 5 columns):\n",
      " #   Column        Non-Null Count  Dtype  \n",
      "---  ------        --------------  -----  \n",
      " 0   sepal.length  150 non-null    float64\n",
      " 1   sepal.width   150 non-null    float64\n",
      " 2   petal.length  150 non-null    float64\n",
      " 3   petal.width   150 non-null    float64\n",
      " 4   variety       150 non-null    object \n",
      "dtypes: float64(4), object(1)\n",
      "memory usage: 6.0+ KB\n"
     ]
    }
   ],
   "source": [
    "dataset.info()"
   ]
  },
  {
   "cell_type": "code",
   "execution_count": 188,
   "id": "fb53b358",
   "metadata": {
    "ExecuteTime": {
     "end_time": "2023-09-08T21:27:47.921551Z",
     "start_time": "2023-09-08T21:27:47.896210Z"
    }
   },
   "outputs": [
    {
     "data": {
      "text/html": [
       "<div>\n",
       "<style scoped>\n",
       "    .dataframe tbody tr th:only-of-type {\n",
       "        vertical-align: middle;\n",
       "    }\n",
       "\n",
       "    .dataframe tbody tr th {\n",
       "        vertical-align: top;\n",
       "    }\n",
       "\n",
       "    .dataframe thead th {\n",
       "        text-align: right;\n",
       "    }\n",
       "</style>\n",
       "<table border=\"1\" class=\"dataframe\">\n",
       "  <thead>\n",
       "    <tr style=\"text-align: right;\">\n",
       "      <th></th>\n",
       "      <th>sepal.length</th>\n",
       "      <th>sepal.width</th>\n",
       "      <th>petal.length</th>\n",
       "      <th>petal.width</th>\n",
       "    </tr>\n",
       "  </thead>\n",
       "  <tbody>\n",
       "    <tr>\n",
       "      <th>count</th>\n",
       "      <td>150.000000</td>\n",
       "      <td>150.000000</td>\n",
       "      <td>150.000000</td>\n",
       "      <td>150.000000</td>\n",
       "    </tr>\n",
       "    <tr>\n",
       "      <th>mean</th>\n",
       "      <td>5.843333</td>\n",
       "      <td>3.057333</td>\n",
       "      <td>3.758000</td>\n",
       "      <td>1.199333</td>\n",
       "    </tr>\n",
       "    <tr>\n",
       "      <th>std</th>\n",
       "      <td>0.828066</td>\n",
       "      <td>0.435866</td>\n",
       "      <td>1.765298</td>\n",
       "      <td>0.762238</td>\n",
       "    </tr>\n",
       "    <tr>\n",
       "      <th>min</th>\n",
       "      <td>4.300000</td>\n",
       "      <td>2.000000</td>\n",
       "      <td>1.000000</td>\n",
       "      <td>0.100000</td>\n",
       "    </tr>\n",
       "    <tr>\n",
       "      <th>25%</th>\n",
       "      <td>5.100000</td>\n",
       "      <td>2.800000</td>\n",
       "      <td>1.600000</td>\n",
       "      <td>0.300000</td>\n",
       "    </tr>\n",
       "    <tr>\n",
       "      <th>50%</th>\n",
       "      <td>5.800000</td>\n",
       "      <td>3.000000</td>\n",
       "      <td>4.350000</td>\n",
       "      <td>1.300000</td>\n",
       "    </tr>\n",
       "    <tr>\n",
       "      <th>75%</th>\n",
       "      <td>6.400000</td>\n",
       "      <td>3.300000</td>\n",
       "      <td>5.100000</td>\n",
       "      <td>1.800000</td>\n",
       "    </tr>\n",
       "    <tr>\n",
       "      <th>max</th>\n",
       "      <td>7.900000</td>\n",
       "      <td>4.400000</td>\n",
       "      <td>6.900000</td>\n",
       "      <td>2.500000</td>\n",
       "    </tr>\n",
       "  </tbody>\n",
       "</table>\n",
       "</div>"
      ],
      "text/plain": [
       "       sepal.length  sepal.width  petal.length  petal.width\n",
       "count    150.000000   150.000000    150.000000   150.000000\n",
       "mean       5.843333     3.057333      3.758000     1.199333\n",
       "std        0.828066     0.435866      1.765298     0.762238\n",
       "min        4.300000     2.000000      1.000000     0.100000\n",
       "25%        5.100000     2.800000      1.600000     0.300000\n",
       "50%        5.800000     3.000000      4.350000     1.300000\n",
       "75%        6.400000     3.300000      5.100000     1.800000\n",
       "max        7.900000     4.400000      6.900000     2.500000"
      ]
     },
     "execution_count": 188,
     "metadata": {},
     "output_type": "execute_result"
    }
   ],
   "source": [
    "dataset.describe()\n",
    "\n",
    "#Значение процентиля: сколько значений меньше заданного процентиля"
   ]
  },
  {
   "cell_type": "code",
   "execution_count": 186,
   "id": "6bf3bb99",
   "metadata": {
    "ExecuteTime": {
     "end_time": "2023-09-08T21:27:29.488801Z",
     "start_time": "2023-09-08T21:27:29.482039Z"
    }
   },
   "outputs": [
    {
     "data": {
      "text/plain": [
       "dtype('float64')"
      ]
     },
     "execution_count": 186,
     "metadata": {},
     "output_type": "execute_result"
    }
   ],
   "source": [
    "dataset['petal.length'].dtypes  #'petal.width'"
   ]
  },
  {
   "cell_type": "code",
   "execution_count": 177,
   "id": "22f1f4be",
   "metadata": {
    "ExecuteTime": {
     "end_time": "2023-09-08T21:15:26.139080Z",
     "start_time": "2023-09-08T21:15:26.128939Z"
    }
   },
   "outputs": [
    {
     "data": {
      "text/plain": [
       "1.5"
      ]
     },
     "execution_count": 177,
     "metadata": {},
     "output_type": "execute_result"
    }
   ],
   "source": [
    "#обращение к элементу\n",
    "dataset['petal.length'][3]"
   ]
  },
  {
   "cell_type": "code",
   "execution_count": 180,
   "id": "f4fd5289",
   "metadata": {
    "ExecuteTime": {
     "end_time": "2023-09-08T21:19:19.815694Z",
     "start_time": "2023-09-08T21:19:19.807665Z"
    }
   },
   "outputs": [
    {
     "data": {
      "text/plain": [
       "array(['Setosa', 'Versicolor', 'Virginica'], dtype=object)"
      ]
     },
     "execution_count": 180,
     "metadata": {},
     "output_type": "execute_result"
    }
   ],
   "source": [
    "dataset['variety'].unique()"
   ]
  },
  {
   "cell_type": "code",
   "execution_count": 181,
   "id": "9074bc61",
   "metadata": {
    "ExecuteTime": {
     "end_time": "2023-09-08T21:20:07.804091Z",
     "start_time": "2023-09-08T21:20:07.722969Z"
    }
   },
   "outputs": [
    {
     "data": {
      "text/html": [
       "<div>\n",
       "<style scoped>\n",
       "    .dataframe tbody tr th:only-of-type {\n",
       "        vertical-align: middle;\n",
       "    }\n",
       "\n",
       "    .dataframe tbody tr th {\n",
       "        vertical-align: top;\n",
       "    }\n",
       "\n",
       "    .dataframe thead th {\n",
       "        text-align: right;\n",
       "    }\n",
       "</style>\n",
       "<table border=\"1\" class=\"dataframe\">\n",
       "  <thead>\n",
       "    <tr style=\"text-align: right;\">\n",
       "      <th></th>\n",
       "      <th>sepal.length</th>\n",
       "      <th>sepal.width</th>\n",
       "      <th>petal.length</th>\n",
       "      <th>petal.width</th>\n",
       "      <th>variety</th>\n",
       "    </tr>\n",
       "  </thead>\n",
       "  <tbody>\n",
       "    <tr>\n",
       "      <th>0</th>\n",
       "      <td>5.1</td>\n",
       "      <td>3.5</td>\n",
       "      <td>1.4</td>\n",
       "      <td>0.2</td>\n",
       "      <td>Setosa</td>\n",
       "    </tr>\n",
       "    <tr>\n",
       "      <th>1</th>\n",
       "      <td>4.9</td>\n",
       "      <td>3.0</td>\n",
       "      <td>1.4</td>\n",
       "      <td>0.2</td>\n",
       "      <td>Setosa</td>\n",
       "    </tr>\n",
       "    <tr>\n",
       "      <th>2</th>\n",
       "      <td>4.7</td>\n",
       "      <td>3.2</td>\n",
       "      <td>1.3</td>\n",
       "      <td>0.2</td>\n",
       "      <td>Setosa</td>\n",
       "    </tr>\n",
       "    <tr>\n",
       "      <th>3</th>\n",
       "      <td>4.6</td>\n",
       "      <td>3.1</td>\n",
       "      <td>1.5</td>\n",
       "      <td>0.2</td>\n",
       "      <td>Setosa</td>\n",
       "    </tr>\n",
       "    <tr>\n",
       "      <th>4</th>\n",
       "      <td>5.0</td>\n",
       "      <td>3.6</td>\n",
       "      <td>1.4</td>\n",
       "      <td>0.2</td>\n",
       "      <td>Setosa</td>\n",
       "    </tr>\n",
       "    <tr>\n",
       "      <th>...</th>\n",
       "      <td>...</td>\n",
       "      <td>...</td>\n",
       "      <td>...</td>\n",
       "      <td>...</td>\n",
       "      <td>...</td>\n",
       "    </tr>\n",
       "    <tr>\n",
       "      <th>95</th>\n",
       "      <td>5.7</td>\n",
       "      <td>3.0</td>\n",
       "      <td>4.2</td>\n",
       "      <td>1.2</td>\n",
       "      <td>Versicolor</td>\n",
       "    </tr>\n",
       "    <tr>\n",
       "      <th>96</th>\n",
       "      <td>5.7</td>\n",
       "      <td>2.9</td>\n",
       "      <td>4.2</td>\n",
       "      <td>1.3</td>\n",
       "      <td>Versicolor</td>\n",
       "    </tr>\n",
       "    <tr>\n",
       "      <th>97</th>\n",
       "      <td>6.2</td>\n",
       "      <td>2.9</td>\n",
       "      <td>4.3</td>\n",
       "      <td>1.3</td>\n",
       "      <td>Versicolor</td>\n",
       "    </tr>\n",
       "    <tr>\n",
       "      <th>98</th>\n",
       "      <td>5.1</td>\n",
       "      <td>2.5</td>\n",
       "      <td>3.0</td>\n",
       "      <td>1.1</td>\n",
       "      <td>Versicolor</td>\n",
       "    </tr>\n",
       "    <tr>\n",
       "      <th>99</th>\n",
       "      <td>5.7</td>\n",
       "      <td>2.8</td>\n",
       "      <td>4.1</td>\n",
       "      <td>1.3</td>\n",
       "      <td>Versicolor</td>\n",
       "    </tr>\n",
       "  </tbody>\n",
       "</table>\n",
       "<p>100 rows × 5 columns</p>\n",
       "</div>"
      ],
      "text/plain": [
       "    sepal.length  sepal.width  petal.length  petal.width     variety\n",
       "0            5.1          3.5           1.4          0.2      Setosa\n",
       "1            4.9          3.0           1.4          0.2      Setosa\n",
       "2            4.7          3.2           1.3          0.2      Setosa\n",
       "3            4.6          3.1           1.5          0.2      Setosa\n",
       "4            5.0          3.6           1.4          0.2      Setosa\n",
       "..           ...          ...           ...          ...         ...\n",
       "95           5.7          3.0           4.2          1.2  Versicolor\n",
       "96           5.7          2.9           4.2          1.3  Versicolor\n",
       "97           6.2          2.9           4.3          1.3  Versicolor\n",
       "98           5.1          2.5           3.0          1.1  Versicolor\n",
       "99           5.7          2.8           4.1          1.3  Versicolor\n",
       "\n",
       "[100 rows x 5 columns]"
      ]
     },
     "execution_count": 181,
     "metadata": {},
     "output_type": "execute_result"
    }
   ],
   "source": [
    "dataset[(dataset['variety']=='Setosa') | (dataset['variety']=='Versicolor')]"
   ]
  },
  {
   "cell_type": "markdown",
   "id": "13ff3cf4",
   "metadata": {
    "heading_collapsed": true
   },
   "source": [
    "## Индексаторы: loc, iloc\n",
    "\n",
    "- **loc** позволяет выполнить индексацию и срезы с использованием явного индекса\n",
    "- **iloc** дает возможность выполнить индексацию и срезы, пременяя неявный индекс"
   ]
  },
  {
   "cell_type": "code",
   "execution_count": 7,
   "id": "0493069c",
   "metadata": {
    "ExecuteTime": {
     "end_time": "2023-09-08T21:49:40.081171Z",
     "start_time": "2023-09-08T21:49:40.072993Z"
    },
    "hidden": true
   },
   "outputs": [
    {
     "data": {
      "text/plain": [
       "1    a\n",
       "3    b\n",
       "5    c\n",
       "7    d\n",
       "dtype: object"
      ]
     },
     "execution_count": 7,
     "metadata": {},
     "output_type": "execute_result"
    }
   ],
   "source": [
    "data = pd.Series(['a', 'b', 'c', 'd'], index=[1, 3, 5, 7])\n",
    "data"
   ]
  },
  {
   "cell_type": "code",
   "execution_count": 198,
   "id": "4468b640",
   "metadata": {
    "ExecuteTime": {
     "end_time": "2023-09-08T21:39:23.585298Z",
     "start_time": "2023-09-08T21:39:23.577924Z"
    },
    "hidden": true
   },
   "outputs": [
    {
     "data": {
      "text/plain": [
       "1"
      ]
     },
     "execution_count": 198,
     "metadata": {},
     "output_type": "execute_result"
    }
   ],
   "source": [
    "l=[0, 1, 2, 3]\n",
    "l[1]"
   ]
  },
  {
   "cell_type": "code",
   "execution_count": 202,
   "id": "98945cc5",
   "metadata": {
    "ExecuteTime": {
     "end_time": "2023-09-08T21:46:00.500378Z",
     "start_time": "2023-09-08T21:46:00.494327Z"
    },
    "hidden": true
   },
   "outputs": [
    {
     "data": {
      "text/plain": [
       "'b'"
      ]
     },
     "execution_count": 202,
     "metadata": {},
     "output_type": "execute_result"
    }
   ],
   "source": [
    "data[3]"
   ]
  },
  {
   "cell_type": "code",
   "execution_count": 13,
   "id": "c06e4326",
   "metadata": {
    "ExecuteTime": {
     "end_time": "2023-09-08T21:50:44.300379Z",
     "start_time": "2023-09-08T21:50:44.292574Z"
    },
    "hidden": true
   },
   "outputs": [
    {
     "data": {
      "text/plain": [
       "(3    b\n",
       " 5    c\n",
       " dtype: object,\n",
       " 1    a\n",
       " 3    b\n",
       " 5    c\n",
       " dtype: object)"
      ]
     },
     "execution_count": 13,
     "metadata": {},
     "output_type": "execute_result"
    }
   ],
   "source": [
    "data[1:3], data.loc[1:5]"
   ]
  },
  {
   "cell_type": "code",
   "execution_count": 10,
   "id": "4f5f38b3",
   "metadata": {
    "ExecuteTime": {
     "end_time": "2023-09-08T21:49:49.530537Z",
     "start_time": "2023-09-08T21:49:49.522951Z"
    },
    "hidden": true
   },
   "outputs": [
    {
     "data": {
      "text/plain": [
       "3    b\n",
       "5    c\n",
       "7    d\n",
       "dtype: object"
      ]
     },
     "execution_count": 10,
     "metadata": {},
     "output_type": "execute_result"
    }
   ],
   "source": [
    "data.iloc[1:4]"
   ]
  },
  {
   "cell_type": "markdown",
   "id": "9708235d",
   "metadata": {
    "heading_collapsed": true
   },
   "source": [
    "## Группировка"
   ]
  },
  {
   "cell_type": "code",
   "execution_count": 38,
   "id": "fcc773c7",
   "metadata": {
    "ExecuteTime": {
     "end_time": "2023-09-08T22:14:29.623162Z",
     "start_time": "2023-09-08T22:14:29.608978Z"
    },
    "hidden": true
   },
   "outputs": [
    {
     "data": {
      "text/html": [
       "<div>\n",
       "<style scoped>\n",
       "    .dataframe tbody tr th:only-of-type {\n",
       "        vertical-align: middle;\n",
       "    }\n",
       "\n",
       "    .dataframe tbody tr th {\n",
       "        vertical-align: top;\n",
       "    }\n",
       "\n",
       "    .dataframe thead th {\n",
       "        text-align: right;\n",
       "    }\n",
       "</style>\n",
       "<table border=\"1\" class=\"dataframe\">\n",
       "  <thead>\n",
       "    <tr style=\"text-align: right;\">\n",
       "      <th></th>\n",
       "      <th>sepal.length</th>\n",
       "      <th>sepal.width</th>\n",
       "      <th>petal.length</th>\n",
       "      <th>petal.width</th>\n",
       "    </tr>\n",
       "    <tr>\n",
       "      <th>variety</th>\n",
       "      <th></th>\n",
       "      <th></th>\n",
       "      <th></th>\n",
       "      <th></th>\n",
       "    </tr>\n",
       "  </thead>\n",
       "  <tbody>\n",
       "    <tr>\n",
       "      <th>Setosa</th>\n",
       "      <td>5.006</td>\n",
       "      <td>3.428</td>\n",
       "      <td>1.462</td>\n",
       "      <td>0.246</td>\n",
       "    </tr>\n",
       "    <tr>\n",
       "      <th>Versicolor</th>\n",
       "      <td>5.936</td>\n",
       "      <td>2.770</td>\n",
       "      <td>4.260</td>\n",
       "      <td>1.326</td>\n",
       "    </tr>\n",
       "    <tr>\n",
       "      <th>Virginica</th>\n",
       "      <td>6.588</td>\n",
       "      <td>2.974</td>\n",
       "      <td>5.552</td>\n",
       "      <td>2.026</td>\n",
       "    </tr>\n",
       "  </tbody>\n",
       "</table>\n",
       "</div>"
      ],
      "text/plain": [
       "            sepal.length  sepal.width  petal.length  petal.width\n",
       "variety                                                         \n",
       "Setosa             5.006        3.428         1.462        0.246\n",
       "Versicolor         5.936        2.770         4.260        1.326\n",
       "Virginica          6.588        2.974         5.552        2.026"
      ]
     },
     "execution_count": 38,
     "metadata": {},
     "output_type": "execute_result"
    }
   ],
   "source": [
    "dataset.groupby('variety').mean()"
   ]
  },
  {
   "cell_type": "code",
   "execution_count": 29,
   "id": "55cadff5",
   "metadata": {
    "ExecuteTime": {
     "end_time": "2023-09-08T22:09:18.110336Z",
     "start_time": "2023-09-08T22:09:18.096485Z"
    },
    "hidden": true
   },
   "outputs": [
    {
     "data": {
      "text/html": [
       "<div>\n",
       "<style scoped>\n",
       "    .dataframe tbody tr th:only-of-type {\n",
       "        vertical-align: middle;\n",
       "    }\n",
       "\n",
       "    .dataframe tbody tr th {\n",
       "        vertical-align: top;\n",
       "    }\n",
       "\n",
       "    .dataframe thead th {\n",
       "        text-align: right;\n",
       "    }\n",
       "</style>\n",
       "<table border=\"1\" class=\"dataframe\">\n",
       "  <thead>\n",
       "    <tr style=\"text-align: right;\">\n",
       "      <th></th>\n",
       "      <th>sepal.length</th>\n",
       "      <th>sepal.width</th>\n",
       "      <th>petal.length</th>\n",
       "      <th>petal.width</th>\n",
       "    </tr>\n",
       "    <tr>\n",
       "      <th>variety</th>\n",
       "      <th></th>\n",
       "      <th></th>\n",
       "      <th></th>\n",
       "      <th></th>\n",
       "    </tr>\n",
       "  </thead>\n",
       "  <tbody>\n",
       "    <tr>\n",
       "      <th>Setosa</th>\n",
       "      <td>5.8</td>\n",
       "      <td>2.3</td>\n",
       "      <td>1.462</td>\n",
       "      <td>0.2</td>\n",
       "    </tr>\n",
       "    <tr>\n",
       "      <th>Versicolor</th>\n",
       "      <td>7.0</td>\n",
       "      <td>2.0</td>\n",
       "      <td>4.260</td>\n",
       "      <td>1.3</td>\n",
       "    </tr>\n",
       "    <tr>\n",
       "      <th>Virginica</th>\n",
       "      <td>7.9</td>\n",
       "      <td>2.2</td>\n",
       "      <td>5.552</td>\n",
       "      <td>1.8</td>\n",
       "    </tr>\n",
       "  </tbody>\n",
       "</table>\n",
       "</div>"
      ],
      "text/plain": [
       "            sepal.length  sepal.width  petal.length  petal.width\n",
       "variety                                                         \n",
       "Setosa               5.8          2.3         1.462          0.2\n",
       "Versicolor           7.0          2.0         4.260          1.3\n",
       "Virginica            7.9          2.2         5.552          1.8"
      ]
     },
     "execution_count": 29,
     "metadata": {},
     "output_type": "execute_result"
    }
   ],
   "source": [
    "dataset_group = dataset.groupby('variety').agg({\n",
    "    'sepal.length': 'max',\n",
    "    'sepal.width': 'min',\n",
    "    'petal.length': 'mean',\n",
    "    \"petal.width\": \"last\"\n",
    "})\n",
    "dataset_group"
   ]
  },
  {
   "cell_type": "code",
   "execution_count": 28,
   "id": "ecc6f658",
   "metadata": {
    "ExecuteTime": {
     "end_time": "2023-09-08T22:09:00.715156Z",
     "start_time": "2023-09-08T22:09:00.708204Z"
    },
    "hidden": true
   },
   "outputs": [
    {
     "data": {
      "text/plain": [
       "array([  0,   1,   2,   3,   4,   5,   6,   7,   8,   9,  10,  11,  12,\n",
       "        13,  14,  15,  16,  17,  18,  19,  20,  21,  22,  23,  24,  25,\n",
       "        26,  27,  28,  29,  30,  31,  32,  33,  34,  35,  36,  37,  38,\n",
       "        39,  40,  41,  42,  43,  44,  45,  46,  47,  48,  49,  50,  51,\n",
       "        52,  53,  54,  55,  56,  57,  58,  59,  60,  61,  62,  63,  64,\n",
       "        65,  66,  67,  68,  69,  70,  71,  72,  73,  74,  75,  76,  77,\n",
       "        78,  79,  80,  81,  82,  83,  84,  85,  86,  87,  88,  89,  90,\n",
       "        91,  92,  93,  94,  95,  96,  97,  98,  99, 100, 101, 102, 103,\n",
       "       104, 105, 106, 107, 108, 109, 110, 111, 112, 113, 114, 115, 116,\n",
       "       117, 118, 119, 120, 121, 122, 123, 124, 125, 126, 127, 128, 129,\n",
       "       130, 131, 132, 133, 134, 135, 136, 137, 138, 139, 140, 141, 142,\n",
       "       143, 144, 145, 146, 147, 148, 149])"
      ]
     },
     "execution_count": 28,
     "metadata": {},
     "output_type": "execute_result"
    }
   ],
   "source": [
    "dataset.index.values"
   ]
  },
  {
   "cell_type": "code",
   "execution_count": 30,
   "id": "a202655f",
   "metadata": {
    "ExecuteTime": {
     "end_time": "2023-09-08T22:09:37.799465Z",
     "start_time": "2023-09-08T22:09:37.792015Z"
    },
    "hidden": true
   },
   "outputs": [
    {
     "data": {
      "text/plain": [
       "array(['Setosa', 'Versicolor', 'Virginica'], dtype=object)"
      ]
     },
     "execution_count": 30,
     "metadata": {},
     "output_type": "execute_result"
    }
   ],
   "source": [
    "dataset_group.index.values"
   ]
  },
  {
   "cell_type": "code",
   "execution_count": 35,
   "id": "a13005f1",
   "metadata": {
    "ExecuteTime": {
     "end_time": "2023-09-08T22:11:17.694262Z",
     "start_time": "2023-09-08T22:11:17.679091Z"
    },
    "hidden": true
   },
   "outputs": [
    {
     "data": {
      "text/html": [
       "<div>\n",
       "<style scoped>\n",
       "    .dataframe tbody tr th:only-of-type {\n",
       "        vertical-align: middle;\n",
       "    }\n",
       "\n",
       "    .dataframe tbody tr th {\n",
       "        vertical-align: top;\n",
       "    }\n",
       "\n",
       "    .dataframe thead th {\n",
       "        text-align: right;\n",
       "    }\n",
       "</style>\n",
       "<table border=\"1\" class=\"dataframe\">\n",
       "  <thead>\n",
       "    <tr style=\"text-align: right;\">\n",
       "      <th></th>\n",
       "      <th>variety</th>\n",
       "      <th>sepal.length</th>\n",
       "      <th>sepal.width</th>\n",
       "      <th>petal.length</th>\n",
       "      <th>petal.width</th>\n",
       "    </tr>\n",
       "  </thead>\n",
       "  <tbody>\n",
       "    <tr>\n",
       "      <th>0</th>\n",
       "      <td>Setosa</td>\n",
       "      <td>5.8</td>\n",
       "      <td>2.3</td>\n",
       "      <td>1.462</td>\n",
       "      <td>0.2</td>\n",
       "    </tr>\n",
       "    <tr>\n",
       "      <th>1</th>\n",
       "      <td>Versicolor</td>\n",
       "      <td>7.0</td>\n",
       "      <td>2.0</td>\n",
       "      <td>4.260</td>\n",
       "      <td>1.3</td>\n",
       "    </tr>\n",
       "    <tr>\n",
       "      <th>2</th>\n",
       "      <td>Virginica</td>\n",
       "      <td>7.9</td>\n",
       "      <td>2.2</td>\n",
       "      <td>5.552</td>\n",
       "      <td>1.8</td>\n",
       "    </tr>\n",
       "  </tbody>\n",
       "</table>\n",
       "</div>"
      ],
      "text/plain": [
       "      variety  sepal.length  sepal.width  petal.length  petal.width\n",
       "0      Setosa           5.8          2.3         1.462          0.2\n",
       "1  Versicolor           7.0          2.0         4.260          1.3\n",
       "2   Virginica           7.9          2.2         5.552          1.8"
      ]
     },
     "execution_count": 35,
     "metadata": {},
     "output_type": "execute_result"
    }
   ],
   "source": [
    "dataset_group.reset_index('variety')"
   ]
  },
  {
   "cell_type": "code",
   "execution_count": 36,
   "id": "dfbf363f",
   "metadata": {
    "ExecuteTime": {
     "end_time": "2023-09-08T22:13:08.448375Z",
     "start_time": "2023-09-08T22:13:08.432327Z"
    },
    "hidden": true
   },
   "outputs": [
    {
     "data": {
      "text/html": [
       "<div>\n",
       "<style scoped>\n",
       "    .dataframe tbody tr th:only-of-type {\n",
       "        vertical-align: middle;\n",
       "    }\n",
       "\n",
       "    .dataframe tbody tr th {\n",
       "        vertical-align: top;\n",
       "    }\n",
       "\n",
       "    .dataframe thead th {\n",
       "        text-align: right;\n",
       "    }\n",
       "</style>\n",
       "<table border=\"1\" class=\"dataframe\">\n",
       "  <thead>\n",
       "    <tr style=\"text-align: right;\">\n",
       "      <th></th>\n",
       "      <th>sepal.length</th>\n",
       "      <th>sepal.width</th>\n",
       "      <th>petal.length</th>\n",
       "      <th>petal.width</th>\n",
       "      <th>variety</th>\n",
       "      <th>new_column</th>\n",
       "    </tr>\n",
       "  </thead>\n",
       "  <tbody>\n",
       "    <tr>\n",
       "      <th>0</th>\n",
       "      <td>5.1</td>\n",
       "      <td>3.5</td>\n",
       "      <td>1.4</td>\n",
       "      <td>0.2</td>\n",
       "      <td>Setosa</td>\n",
       "      <td>Beauty</td>\n",
       "    </tr>\n",
       "    <tr>\n",
       "      <th>1</th>\n",
       "      <td>4.9</td>\n",
       "      <td>3.0</td>\n",
       "      <td>1.4</td>\n",
       "      <td>0.2</td>\n",
       "      <td>Setosa</td>\n",
       "      <td>Beauty</td>\n",
       "    </tr>\n",
       "    <tr>\n",
       "      <th>2</th>\n",
       "      <td>4.7</td>\n",
       "      <td>3.2</td>\n",
       "      <td>1.3</td>\n",
       "      <td>0.2</td>\n",
       "      <td>Setosa</td>\n",
       "      <td>Beauty</td>\n",
       "    </tr>\n",
       "    <tr>\n",
       "      <th>3</th>\n",
       "      <td>4.6</td>\n",
       "      <td>3.1</td>\n",
       "      <td>1.5</td>\n",
       "      <td>0.2</td>\n",
       "      <td>Setosa</td>\n",
       "      <td>Beauty</td>\n",
       "    </tr>\n",
       "    <tr>\n",
       "      <th>4</th>\n",
       "      <td>5.0</td>\n",
       "      <td>3.6</td>\n",
       "      <td>1.4</td>\n",
       "      <td>0.2</td>\n",
       "      <td>Setosa</td>\n",
       "      <td>Beauty</td>\n",
       "    </tr>\n",
       "    <tr>\n",
       "      <th>...</th>\n",
       "      <td>...</td>\n",
       "      <td>...</td>\n",
       "      <td>...</td>\n",
       "      <td>...</td>\n",
       "      <td>...</td>\n",
       "      <td>...</td>\n",
       "    </tr>\n",
       "    <tr>\n",
       "      <th>145</th>\n",
       "      <td>6.7</td>\n",
       "      <td>3.0</td>\n",
       "      <td>5.2</td>\n",
       "      <td>2.3</td>\n",
       "      <td>Virginica</td>\n",
       "      <td>Beauty</td>\n",
       "    </tr>\n",
       "    <tr>\n",
       "      <th>146</th>\n",
       "      <td>6.3</td>\n",
       "      <td>2.5</td>\n",
       "      <td>5.0</td>\n",
       "      <td>1.9</td>\n",
       "      <td>Virginica</td>\n",
       "      <td>Beauty</td>\n",
       "    </tr>\n",
       "    <tr>\n",
       "      <th>147</th>\n",
       "      <td>6.5</td>\n",
       "      <td>3.0</td>\n",
       "      <td>5.2</td>\n",
       "      <td>2.0</td>\n",
       "      <td>Virginica</td>\n",
       "      <td>Beauty</td>\n",
       "    </tr>\n",
       "    <tr>\n",
       "      <th>148</th>\n",
       "      <td>6.2</td>\n",
       "      <td>3.4</td>\n",
       "      <td>5.4</td>\n",
       "      <td>2.3</td>\n",
       "      <td>Virginica</td>\n",
       "      <td>Beauty</td>\n",
       "    </tr>\n",
       "    <tr>\n",
       "      <th>149</th>\n",
       "      <td>5.9</td>\n",
       "      <td>3.0</td>\n",
       "      <td>5.1</td>\n",
       "      <td>1.8</td>\n",
       "      <td>Virginica</td>\n",
       "      <td>Beauty</td>\n",
       "    </tr>\n",
       "  </tbody>\n",
       "</table>\n",
       "<p>150 rows × 6 columns</p>\n",
       "</div>"
      ],
      "text/plain": [
       "     sepal.length  sepal.width  petal.length  petal.width    variety  \\\n",
       "0             5.1          3.5           1.4          0.2     Setosa   \n",
       "1             4.9          3.0           1.4          0.2     Setosa   \n",
       "2             4.7          3.2           1.3          0.2     Setosa   \n",
       "3             4.6          3.1           1.5          0.2     Setosa   \n",
       "4             5.0          3.6           1.4          0.2     Setosa   \n",
       "..            ...          ...           ...          ...        ...   \n",
       "145           6.7          3.0           5.2          2.3  Virginica   \n",
       "146           6.3          2.5           5.0          1.9  Virginica   \n",
       "147           6.5          3.0           5.2          2.0  Virginica   \n",
       "148           6.2          3.4           5.4          2.3  Virginica   \n",
       "149           5.9          3.0           5.1          1.8  Virginica   \n",
       "\n",
       "    new_column  \n",
       "0       Beauty  \n",
       "1       Beauty  \n",
       "2       Beauty  \n",
       "3       Beauty  \n",
       "4       Beauty  \n",
       "..         ...  \n",
       "145     Beauty  \n",
       "146     Beauty  \n",
       "147     Beauty  \n",
       "148     Beauty  \n",
       "149     Beauty  \n",
       "\n",
       "[150 rows x 6 columns]"
      ]
     },
     "execution_count": 36,
     "metadata": {},
     "output_type": "execute_result"
    }
   ],
   "source": [
    "dataset['new_column'] = 'Beauty'\n",
    "dataset"
   ]
  },
  {
   "cell_type": "code",
   "execution_count": null,
   "id": "78a43f14",
   "metadata": {
    "hidden": true
   },
   "outputs": [],
   "source": []
  }
 ],
 "metadata": {
  "kernelspec": {
   "display_name": "Python 3 (ipykernel)",
   "language": "python",
   "name": "python3"
  },
  "language_info": {
   "codemirror_mode": {
    "name": "ipython",
    "version": 3
   },
   "file_extension": ".py",
   "mimetype": "text/x-python",
   "name": "python",
   "nbconvert_exporter": "python",
   "pygments_lexer": "ipython3",
   "version": "3.8.10"
  },
  "latex_envs": {
   "LaTeX_envs_menu_present": true,
   "autoclose": false,
   "autocomplete": true,
   "bibliofile": "biblio.bib",
   "cite_by": "apalike",
   "current_citInitial": 1,
   "eqLabelWithNumbers": true,
   "eqNumInitial": 1,
   "hotkeys": {
    "equation": "Ctrl-E",
    "itemize": "Ctrl-I"
   },
   "labels_anchors": false,
   "latex_user_defs": false,
   "report_style_numbering": false,
   "user_envs_cfg": false
  },
  "toc": {
   "base_numbering": 1,
   "nav_menu": {},
   "number_sections": true,
   "sideBar": true,
   "skip_h1_title": false,
   "title_cell": "Table of Contents",
   "title_sidebar": "Contents",
   "toc_cell": false,
   "toc_position": {},
   "toc_section_display": true,
   "toc_window_display": true
  },
  "varInspector": {
   "cols": {
    "lenName": 16,
    "lenType": 16,
    "lenVar": 40
   },
   "kernels_config": {
    "python": {
     "delete_cmd_postfix": "",
     "delete_cmd_prefix": "del ",
     "library": "var_list.py",
     "varRefreshCmd": "print(var_dic_list())"
    },
    "r": {
     "delete_cmd_postfix": ") ",
     "delete_cmd_prefix": "rm(",
     "library": "var_list.r",
     "varRefreshCmd": "cat(var_dic_list()) "
    }
   },
   "types_to_exclude": [
    "module",
    "function",
    "builtin_function_or_method",
    "instance",
    "_Feature"
   ],
   "window_display": false
  }
 },
 "nbformat": 4,
 "nbformat_minor": 5
}
