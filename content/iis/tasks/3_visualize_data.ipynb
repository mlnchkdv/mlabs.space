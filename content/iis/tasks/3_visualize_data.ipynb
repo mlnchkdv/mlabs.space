{
 "cells": [
  {
   "cell_type": "markdown",
   "id": "2c1ad592",
   "metadata": {},
   "source": [
    "# Визуализация данных в Python"
   ]
  },
  {
   "cell_type": "markdown",
   "id": "34a06f39",
   "metadata": {},
   "source": [
    "## Обзор библиотек"
   ]
  },
  {
   "cell_type": "markdown",
   "id": "8a37c121",
   "metadata": {},
   "source": [
    "1. Matplotlib - базовая графика\n",
    "2. Seaborn - углубленная базовая графика\n",
    "3. Plotly - динамические графики"
   ]
  },
  {
   "cell_type": "markdown",
   "id": "ea7dce26",
   "metadata": {},
   "source": [
    "| Matplotlib | Seaborn |\n",
    "| ----------- | ----------- |\n",
    "| Используется для базового построения графиков, таких как линейные диаграммы, гистограммы и т. д.    | Используется для визуализации статистики и может выполнять сложные визуализации с меньшим количеством команд.   |\n",
    "|  Продуктивно работает с массивами данных и фреймами.  | Seaborn значительно более организован и функционален, чем Matplotlib, и рассматривает весь набор данных как единую единицу.   |\n",
    "| Matplotlib более настраиваемый и хорошо сочетается с Pandas и Numpy для анализа исследуемых данных.   | Seaborn имеет больше встроенных тем и в основном используется для статистического анализа.  |"
   ]
  },
  {
   "cell_type": "markdown",
   "id": "cbb12f21",
   "metadata": {},
   "source": [
    "## Линейные графики"
   ]
  },
  {
   "cell_type": "code",
   "execution_count": null,
   "id": "9ea4802f",
   "metadata": {
    "tags": []
   },
   "outputs": [],
   "source": [
    "import matplotlib.pyplot as plt\n",
    "import seaborn as sns"
   ]
  },
  {
   "cell_type": "markdown",
   "id": "76f416a9",
   "metadata": {},
   "source": [
    "Сгенерируем простой набор данных."
   ]
  },
  {
   "cell_type": "code",
   "execution_count": null,
   "id": "1fe33086",
   "metadata": {},
   "outputs": [],
   "source": [
    "y = [1, 2, 3, 3.5, 3.7, 4, 4.1]"
   ]
  },
  {
   "cell_type": "markdown",
   "id": "2f117948",
   "metadata": {},
   "source": [
    "Визуализируем с помощью функции **plot**."
   ]
  },
  {
   "cell_type": "code",
   "execution_count": null,
   "id": "4cb6f90d",
   "metadata": {},
   "outputs": [],
   "source": [
    "plt.plot(y)\n",
    "plt.show()"
   ]
  },
  {
   "cell_type": "markdown",
   "id": "94c1190c",
   "metadata": {},
   "source": [
    "Добавим ось ОХ."
   ]
  },
  {
   "cell_type": "code",
   "execution_count": null,
   "id": "62f86e3f",
   "metadata": {},
   "outputs": [],
   "source": [
    "x = [2017, 2018, 2019, 2020, 2021, 2022, 2023]"
   ]
  },
  {
   "cell_type": "code",
   "execution_count": null,
   "id": "d0f10063",
   "metadata": {},
   "outputs": [],
   "source": [
    "plt.plot(x,y)\n",
    "plt.show()"
   ]
  },
  {
   "cell_type": "markdown",
   "id": "b4bdbe0d",
   "metadata": {},
   "source": [
    "Добавляем подписи осей."
   ]
  },
  {
   "cell_type": "code",
   "execution_count": null,
   "id": "f8c81dca",
   "metadata": {},
   "outputs": [],
   "source": [
    "plt.plot(x,y)\n",
    "plt.xlabel('Год')\n",
    "plt.ylabel('Значения показателя')\n",
    "plt.show()"
   ]
  },
  {
   "cell_type": "markdown",
   "id": "6678a85e",
   "metadata": {},
   "source": [
    "Добавляем второй набор данных и отрисовываем оба ряда на одном графике."
   ]
  },
  {
   "cell_type": "code",
   "execution_count": null,
   "id": "4ee16e4b",
   "metadata": {},
   "outputs": [],
   "source": [
    "#y = [1, 2, 3, 3.5, 3.7, 4, 4.1]\n",
    "y2 = [6.8, 6.7, 6.5, 5, 5.1, 3.0, 2]\n",
    "#x = [2017, 2018, 2019, 2020, 2021, 2022, 2023]\n",
    "plt.plot(x,y)\n",
    "plt.plot(x,y2)\n",
    "plt.xlabel('Год')\n",
    "plt.ylabel('Показатели')\n",
    "plt.show()"
   ]
  },
  {
   "cell_type": "markdown",
   "id": "27cb1c97",
   "metadata": {},
   "source": [
    "Добавляем легенду."
   ]
  },
  {
   "cell_type": "code",
   "execution_count": null,
   "id": "179430fc",
   "metadata": {},
   "outputs": [],
   "source": [
    "plt.plot(x,y)\n",
    "plt.plot(x,y2)\n",
    "plt.xlabel('Год')\n",
    "plt.ylabel('Показатели')\n",
    "plt.title('Динамика показателя')\n",
    "plt.legend(['y', 'y2'])\n",
    "plt.show()"
   ]
  },
  {
   "cell_type": "markdown",
   "id": "7c918abf",
   "metadata": {},
   "source": [
    "Добавляем маркеры для выделения каждого наблюдения."
   ]
  },
  {
   "cell_type": "code",
   "execution_count": null,
   "id": "634125a0",
   "metadata": {},
   "outputs": [],
   "source": [
    "plt.plot(x,y, marker = 'o')\n",
    "plt.plot(x,y2, marker = 'x')\n",
    "plt.xlabel('Год')\n",
    "plt.ylabel('Показатели')\n",
    "plt.title('Динамика показателя')\n",
    "plt.legend(['y', 'y2'])\n",
    "plt.show()"
   ]
  },
  {
   "cell_type": "markdown",
   "id": "9f349ca9",
   "metadata": {},
   "source": [
    "Построим все то же самое с помощью библиотеки **Seaborn**."
   ]
  },
  {
   "cell_type": "code",
   "execution_count": null,
   "id": "eafc0ac0",
   "metadata": {},
   "outputs": [],
   "source": [
    "sns.set_style(\"whitegrid\") #darkgrid\n",
    "\n",
    "plt.plot(x,y, marker = 'o')\n",
    "plt.plot(x,y2, marker = 'x')\n",
    "plt.xlabel('Год')\n",
    "plt.ylabel('Показатели')\n",
    "plt.title('Динамика показателя')\n",
    "plt.legend(['y', 'y2'])\n",
    "plt.show()"
   ]
  },
  {
   "cell_type": "markdown",
   "id": "b8b65b40",
   "metadata": {},
   "source": [
    "## Barplot или столбчатые графики"
   ]
  },
  {
   "cell_type": "code",
   "execution_count": null,
   "id": "61151024",
   "metadata": {},
   "outputs": [],
   "source": [
    "plt.bar(x,y)\n",
    "plt.xlabel('Год')\n",
    "plt.ylabel('Показатели')\n",
    "plt.title('Динамика показателя')\n",
    "plt.show()"
   ]
  },
  {
   "cell_type": "code",
   "execution_count": null,
   "id": "3a979db6",
   "metadata": {},
   "outputs": [],
   "source": [
    "plt.bar(x,y)\n",
    "plt.bar(x,y2, bottom = y)\n",
    "plt.show()"
   ]
  },
  {
   "cell_type": "markdown",
   "id": "52808a77",
   "metadata": {},
   "source": [
    "## График-пирог"
   ]
  },
  {
   "cell_type": "code",
   "execution_count": null,
   "id": "a1a14503",
   "metadata": {},
   "outputs": [],
   "source": [
    "x_labels = ['2017', '2018', '2019', '2020', '2021', '2022', '2023']\n",
    "plt.pie(y, labels = x_labels)\n",
    "plt.show()"
   ]
  },
  {
   "cell_type": "markdown",
   "id": "fbbd296c",
   "metadata": {},
   "source": [
    "## Гистограммы"
   ]
  },
  {
   "cell_type": "code",
   "execution_count": null,
   "id": "604d7a71",
   "metadata": {},
   "outputs": [],
   "source": [
    "iris = sns.load_dataset(\"iris\")\n",
    "plt.hist(iris.sepal_length)\n",
    "plt.show()"
   ]
  },
  {
   "cell_type": "markdown",
   "id": "da15ec84",
   "metadata": {},
   "source": [
    "Можем задать количество блоков с помощью параметра **bins**."
   ]
  },
  {
   "cell_type": "code",
   "execution_count": null,
   "id": "20031463",
   "metadata": {},
   "outputs": [],
   "source": [
    "plt.hist(iris.sepal_length, bins = 30)\n",
    "plt.show()"
   ]
  },
  {
   "cell_type": "markdown",
   "id": "ecc8bf57",
   "metadata": {},
   "source": [
    "Регулируем прозрачность гистограммы с помощью параметра **alpha**. Можем построить гистограммы для нескольких наборов данных на одном графике."
   ]
  },
  {
   "cell_type": "code",
   "execution_count": null,
   "id": "381718aa",
   "metadata": {},
   "outputs": [],
   "source": [
    "plt.hist(iris.sepal_length, alpha = 0.4)\n",
    "plt.hist(iris.petal_length, alpha = 0.4)\n",
    "plt.show()"
   ]
  },
  {
   "cell_type": "markdown",
   "id": "5e9c1716",
   "metadata": {},
   "source": [
    "Параметр **stacked** для совместной отрисовки данных."
   ]
  },
  {
   "cell_type": "code",
   "execution_count": null,
   "id": "af9c5416",
   "metadata": {},
   "outputs": [],
   "source": [
    "plt.hist([iris.sepal_length,iris.petal_length], stacked = True)\n",
    "plt.show()"
   ]
  },
  {
   "cell_type": "markdown",
   "id": "faab9422",
   "metadata": {},
   "source": [
    "## Точечные графики или scatteplot"
   ]
  },
  {
   "cell_type": "code",
   "execution_count": null,
   "id": "922f08ef",
   "metadata": {},
   "outputs": [],
   "source": [
    "ax = sns.scatterplot(x='petal_length', y='sepal_length', data=iris)\n",
    "plt.show()"
   ]
  },
  {
   "cell_type": "code",
   "execution_count": null,
   "id": "1a9b84e2",
   "metadata": {},
   "outputs": [],
   "source": [
    "ax = sns.scatterplot(x=\"petal_length\", y=\"sepal_length\", data=iris, hue = 'species')\n",
    "plt.show()"
   ]
  },
  {
   "cell_type": "markdown",
   "id": "ca85bc0d",
   "metadata": {},
   "source": [
    "## Тепловые карты"
   ]
  },
  {
   "cell_type": "code",
   "execution_count": null,
   "id": "36a9d2ba",
   "metadata": {},
   "outputs": [],
   "source": [
    "flights = sns.load_dataset(\"flights\").pivot(\"month\", \"year\", \"passengers\")\n",
    "flights"
   ]
  },
  {
   "cell_type": "markdown",
   "id": "52555886",
   "metadata": {},
   "source": [
    "Приведенный выше набор данных *flights_df* показывает нам ежемесячную нагрузку в аэропорту с 1949 по 1960 год. Значения представляют собой количество пассажиров (в тысячах), прошедших через вход аэропорта. "
   ]
  },
  {
   "cell_type": "code",
   "execution_count": null,
   "id": "d39fe507",
   "metadata": {},
   "outputs": [],
   "source": [
    "sns.heatmap(flights)\n",
    "plt.show()"
   ]
  },
  {
   "cell_type": "markdown",
   "id": "ee052ada",
   "metadata": {},
   "source": [
    "Чем светлее цвет, тем выше пешеходная заходка в аэропорту. Глядя на график, мы можем сделать вывод, что:\n",
    "\n",
    "- Самые высокие значения в июле и августе.\n",
    "- Количество пешеходов растет с каждым годом. \n",
    "- Любой месяц в году будет иметь более высокую проходимость по сравнению с предыдущими годами.\n"
   ]
  },
  {
   "cell_type": "code",
   "execution_count": null,
   "id": "a789d6a9",
   "metadata": {},
   "outputs": [],
   "source": [
    "sns.heatmap(flights, fmt = 'd', annot = True, cmap = 'Blues')\n",
    "plt.show()"
   ]
  },
  {
   "cell_type": "markdown",
   "id": "ed6dff06",
   "metadata": {},
   "source": [
    "## Анализ данных на примере датасета Titanic"
   ]
  },
  {
   "cell_type": "code",
   "execution_count": null,
   "id": "d267b28f",
   "metadata": {},
   "outputs": [],
   "source": [
    "# Настройки визуализации\n",
    "sns.set_style(style='white') \n",
    "sns.set(rc={\n",
    "    'figure.figsize':(12,7), \n",
    "    'axes.facecolor': 'white',\n",
    "    'axes.grid': True, 'grid.color': '.9',\n",
    "    'axes.linewidth': 1.0,\n",
    "    'grid.linestyle': u'-'},font_scale=1.5)\n",
    "custom_colors = [\"#3498db\", \"#95a5a6\",\"#34495e\", \"#2ecc71\", \"#e74c3c\"]\n",
    "sns.set_palette(custom_colors)"
   ]
  },
  {
   "cell_type": "markdown",
   "id": "a243831b",
   "metadata": {},
   "source": [
    "Загрузим данные и посмотрим информацию о них."
   ]
  },
  {
   "cell_type": "code",
   "execution_count": null,
   "id": "755d7505",
   "metadata": {},
   "outputs": [],
   "source": [
    "import pandas as pd\n",
    "df = pd.read_csv(\"titanic.csv\")\n",
    "df.info()"
   ]
  },
  {
   "cell_type": "markdown",
   "id": "17a72687",
   "metadata": {},
   "source": [
    "### Анализируем класс (Pclass)"
   ]
  },
  {
   "cell_type": "markdown",
   "id": "34164b56",
   "metadata": {},
   "source": [
    "Посмотрим, какие классы есть в данных."
   ]
  },
  {
   "cell_type": "code",
   "execution_count": null,
   "id": "1e3b7da7",
   "metadata": {},
   "outputs": [],
   "source": [
    "df.Pclass.unique()"
   ]
  },
  {
   "cell_type": "markdown",
   "id": "3c1f8f7b",
   "metadata": {},
   "source": [
    "Команда **value_counts()** позволяется вывести количество для каждого уникального значения. Запомним ее."
   ]
  },
  {
   "cell_type": "code",
   "execution_count": null,
   "id": "0c830530",
   "metadata": {},
   "outputs": [],
   "source": [
    "df.Pclass.value_counts()"
   ]
  },
  {
   "cell_type": "code",
   "execution_count": null,
   "id": "bdc5adf6",
   "metadata": {},
   "outputs": [],
   "source": [
    "df.Pclass.value_counts().plot.pie().legend(labels=[\"Class 3\",\"Class 1\",\"Class 2\"], loc='center right', bbox_to_anchor=(2.25, 0.5)).set_title(\"Распределение пассажиров по классам\")"
   ]
  },
  {
   "cell_type": "code",
   "execution_count": null,
   "id": "09d50571",
   "metadata": {},
   "outputs": [],
   "source": [
    "pclass_1_survivor_distribution = round((df[df.Pclass == 1].Survived == 1).value_counts()[1]/len(df[df.Pclass == 1]) * 100, 2)\n",
    "pclass_2_survivor_distribution = round((df[df.Pclass == 2].Survived == 1).value_counts()[1]/len(df[df.Pclass == 2]) * 100, 2)\n",
    "pclass_3_survivor_distribution = round((df[df.Pclass == 3].Survived == 1).value_counts()[1]/len(df[df.Pclass == 3]) * 100, 2)\n",
    "pclass_perc_df = pd.DataFrame(\n",
    "    { \"Выжили\":{\"Class 1\": pclass_1_survivor_distribution,\"Class 2\": pclass_2_survivor_distribution, \"Class 3\": pclass_3_survivor_distribution},  \n",
    "     \"Погибли\":{\"Class 1\": 100-pclass_1_survivor_distribution,\"Class 2\": 100-pclass_2_survivor_distribution, \"Class 3\": 100-pclass_3_survivor_distribution}})\n",
    "pclass_perc_df.plot.bar().set_title(\"Процент выживших по классам\")\n",
    "plt.show()"
   ]
  },
  {
   "cell_type": "markdown",
   "id": "905601da",
   "metadata": {},
   "source": [
    "*Пример анализа по показателю:*\n",
    "\n",
    "Показатель **Pclass** - класс, соотвествующий билету пассажира. Пассажиры могли выбрать из трех отдельных классов, а именно: класс 1, класс 2 и класс 3. Третий класс имел наибольшее количество пассажиров, затем класс 2 и класс 1. Количество пассажиров в третьем классе было больше, чем количество пассажиров в первом и втором классе вместе взятых. Вероятность выживания пассажира класса 1 была выше, чем пассажира класса 2 и класса 3."
   ]
  },
  {
   "cell_type": "markdown",
   "id": "d93ae7a8",
   "metadata": {},
   "source": [
    "### Анализ показателя пол (Sex)"
   ]
  },
  {
   "cell_type": "code",
   "execution_count": null,
   "id": "f578b7d9",
   "metadata": {},
   "outputs": [],
   "source": [
    "df.Sex.value_counts(normalize = True)"
   ]
  },
  {
   "cell_type": "markdown",
   "id": "ee2fa88c",
   "metadata": {},
   "source": [
    "Построим **barplot** процент женщин и мужчин на Титанике."
   ]
  },
  {
   "cell_type": "code",
   "execution_count": null,
   "id": "cf9beadc",
   "metadata": {},
   "outputs": [],
   "source": [
    "(df.Sex.value_counts(normalize = True) * 100).plot.bar()\n",
    "plt.show()"
   ]
  },
  {
   "cell_type": "markdown",
   "id": "cde4aa89",
   "metadata": {},
   "source": [
    "Посмотрим процент выживших среди мужчин и женщин."
   ]
  },
  {
   "cell_type": "code",
   "execution_count": null,
   "id": "a7273909",
   "metadata": {},
   "outputs": [],
   "source": [
    "df[df.Sex == 'male'].Survived == 1"
   ]
  },
  {
   "cell_type": "code",
   "execution_count": null,
   "id": "deff0daa",
   "metadata": {},
   "outputs": [],
   "source": [
    "(df[df.Sex == 'male'].Survived == 1).value_counts()"
   ]
  },
  {
   "cell_type": "code",
   "execution_count": null,
   "id": "21dcdfb9",
   "metadata": {},
   "outputs": [],
   "source": [
    "round((df[df.Sex == 'male'].Survived == 1).value_counts()[1]/len(df.Sex)*100,2)"
   ]
  },
  {
   "cell_type": "code",
   "execution_count": null,
   "id": "05544621",
   "metadata": {},
   "outputs": [],
   "source": [
    "male_pr = round((df[df.Sex == 'male'].Survived == 1).value_counts()[1]/len(df.Sex) * 100, 2)\n",
    "female_pr = round((df[df.Sex == 'female'].Survived == 1).value_counts()[1]/len(df.Sex) * 100, 2)\n",
    "sex_perc_df = pd.DataFrame(\n",
    "    { \"Процент выживших\":{\"мужчины\": male_pr,\"женщины\": female_pr},  \"Погибшие\":{\"мужчины\": 100-male_pr,\"женщины\": 100-female_pr}})\n",
    "sex_perc_df.plot.barh().set_title(\"Процент выживших в разрезе м/ж\")\n",
    "plt.show()"
   ]
  },
  {
   "cell_type": "markdown",
   "id": "3800a639",
   "metadata": {},
   "source": [
    "*Пример анализа:*\n",
    "\n",
    "Примерно 65% пассажиров составляли мужчины, а остальные 35% — женщины. Тем не менее, процент выживших женщин был выше, чем число выживших мужчин. Более 80% мужчин умерли, в сравнении с примерно 70% женщинами."
   ]
  },
  {
   "cell_type": "markdown",
   "id": "c7c98f93",
   "metadata": {},
   "source": [
    "### Анализируем возраст (Age)"
   ]
  },
  {
   "cell_type": "code",
   "execution_count": null,
   "id": "d7450d80",
   "metadata": {},
   "outputs": [],
   "source": [
    "min(df['Age'])"
   ]
  },
  {
   "cell_type": "code",
   "execution_count": null,
   "id": "55583fa8",
   "metadata": {},
   "outputs": [],
   "source": [
    "max(df['Age'])"
   ]
  },
  {
   "cell_type": "markdown",
   "id": "5037c1d3",
   "metadata": {},
   "source": [
    "Зададим интервалы и сгруппируем данные в эти интервалы."
   ]
  },
  {
   "cell_type": "code",
   "execution_count": null,
   "id": "87392fb1",
   "metadata": {},
   "outputs": [],
   "source": [
    "df['Age_Range'] = pd.cut(df.Age, [0, 10, 20, 30, 40, 50, 60,70,80])\n",
    "sns.countplot(x = \"Age_Range\", hue = \"Survived\", data = df, palette=[\"C1\", \"C0\"]).legend(labels = [\"Погибли\", \"Выжили\"])\n",
    "plt.show()"
   ]
  },
  {
   "cell_type": "code",
   "execution_count": null,
   "id": "e7b6d232",
   "metadata": {},
   "outputs": [],
   "source": [
    "sns.distplot(df['Age'].dropna(),color='darkgreen',bins=30)\n",
    "plt.show()"
   ]
  },
  {
   "cell_type": "markdown",
   "id": "354f86ae",
   "metadata": {},
   "source": [
    "Самому молодому путешественнику на борту было около двух месяцев, а самому старшему — 80 лет. Средний возраст пассажиров на борту был чуть менее 30 лет. Большая часть детей в возрасте до 10 лет выжила. В любой другой возрастной группе число жертв было выше, чем число выживших. Более 140 человек в возрастной группе 20-30 лет погибли в сравнении с примерно 80 выжившими того же возраста."
   ]
  },
  {
   "cell_type": "markdown",
   "id": "87d5b12d",
   "metadata": {},
   "source": [
    "### Самостоятельно анализируем стоимость тарифа (Fare) (5 баллов)"
   ]
  },
  {
   "cell_type": "markdown",
   "id": "8990e184",
   "metadata": {},
   "source": [
    "Схема анализа: \n",
    "\n",
    "1) посмотреть с помощью value_counts() какие есть тарифы\n",
    "\n",
    "2) возможно объединить тарифы в категории (например, Дешевые, Средние, Выше Среднего, Высокие) и создать новую переменную. Подсказка для разделения функция describe\n",
    "\n",
    "3) визуализировать график и ответить на вопрос: \"Как стоимость тарифа влияет на вероятность выживания?\""
   ]
  },
  {
   "cell_type": "code",
   "execution_count": null,
   "id": "e92f47d1",
   "metadata": {},
   "outputs": [],
   "source": [
    "# решение \n",
    "\n"
   ]
  },
  {
   "cell_type": "markdown",
   "id": "2710dc27",
   "metadata": {},
   "source": [
    "### Самостоятельно анализируем Siblings/Spouses Aboard и Parents/Children Aboard (10 баллов)\n",
    "\n",
    "SibSp — это число братьев, сестер или супругов на борту у человека.\n",
    "\n",
    "Parents/Children Aboard - признак содержал количество родителей или детей, с которыми путешествовал каждый пассажир."
   ]
  },
  {
   "cell_type": "markdown",
   "id": "5bf927d9",
   "metadata": {},
   "source": [
    "Вопросы для анализа:\n",
    "1. Как влияет наличие семьи на выживаемость? \n",
    "2. Какие путешествия чаще: в одиночку или с родственниками?\n",
    "3. Насколько изменяются шансы на выживание в случае путешествия в одиночку?"
   ]
  },
  {
   "cell_type": "code",
   "execution_count": null,
   "id": "3ad7a102",
   "metadata": {},
   "outputs": [],
   "source": [
    "# для удобства переименуем колонки\n",
    "df.columns = ['Survived', 'Pclass', 'Name', 'Sex', 'Age', 'SibSp', 'Parch', 'Fare', 'Age_Range', 'Fare_Category']\n",
    "df.head()"
   ]
  },
  {
   "cell_type": "code",
   "execution_count": null,
   "id": "04670563",
   "metadata": {},
   "outputs": [],
   "source": [
    "# решение\n",
    "\n"
   ]
  }
 ],
 "metadata": {
  "kernelspec": {
   "display_name": "Python 3 (ipykernel)",
   "language": "python",
   "name": "python3"
  },
  "language_info": {
   "codemirror_mode": {
    "name": "ipython",
    "version": 3
   },
   "file_extension": ".py",
   "mimetype": "text/x-python",
   "name": "python",
   "nbconvert_exporter": "python",
   "pygments_lexer": "ipython3",
   "version": "3.8.16"
  },
  "toc": {
   "base_numbering": 1,
   "nav_menu": {},
   "number_sections": true,
   "sideBar": true,
   "skip_h1_title": false,
   "title_cell": "Table of Contents",
   "title_sidebar": "Contents",
   "toc_cell": false,
   "toc_position": {},
   "toc_section_display": true,
   "toc_window_display": false
  },
  "widgets": {
   "application/vnd.jupyter.widget-state+json": {
    "state": {},
    "version_major": 2,
    "version_minor": 0
   }
  }
 },
 "nbformat": 4,
 "nbformat_minor": 5
}
